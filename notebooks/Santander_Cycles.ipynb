{
 "cells": [
  {
   "cell_type": "markdown",
   "metadata": {},
   "source": [
    "# Modelling event times on the Santander Cycles data using graph-based mutually exciting processes (GB-MEP)\n",
    "First, import the library `gb_mep`:"
   ]
  },
  {
   "cell_type": "code",
   "execution_count": 1,
   "metadata": {},
   "outputs": [],
   "source": [
    "## Import library gb_mep\n",
    "import gb_mep"
   ]
  },
  {
   "cell_type": "markdown",
   "metadata": {},
   "source": [
    "Next, import the Santander Cycles data from the directory `data` (after running the scripts for data preprocessing, as detailed in the main `README` file for the library `gb_mep`)."
   ]
  },
  {
   "cell_type": "code",
   "execution_count": 2,
   "metadata": {},
   "outputs": [],
   "source": [
    "## Load all required files after importing relevant libraries\n",
    "import pickle\n",
    "import numpy as np\n",
    "import pandas as pd\n",
    "santander_train = pd.read_csv('../data/santander_train.csv') \n",
    "santander_test = pd.read_csv('../data/santander_test.csv') \n",
    "santander_distances = np.load('../data/santander_distances.npy')\n",
    "with open('../data/santander_dictionary.pkl', 'rb') as f:\n",
    "    santander_dictionary = pickle.load(f)"
   ]
  },
  {
   "cell_type": "code",
   "execution_count": 3,
   "metadata": {},
   "outputs": [
    {
     "data": {
      "image/png": "[encoded data removed]",
      "text/plain": [
       "<Figure size 640x480 with 1 Axes>"
      ]
     },
     "metadata": {},
     "output_type": "display_data"
    }
   ],
   "source": [
    "import matplotlib.pyplot as plt\n",
    "from matplotlib import rc\n",
    "rc('font',**{'family':'sans-serif','sans-serif':['Lato']})\n",
    "rc('text', usetex=True)\n",
    "plt.bar(range(21),[list(np.sum(santander_distances < .5, axis=1)).count(x) for x in range(21)])\n",
    "plt.title('Frequencies of the number of stations in a 500m radius of each station')\n",
    "plt.show()"
   ]
  },
  {
   "cell_type": "markdown",
   "metadata": {},
   "source": [
    "Inspect the Santander Cycles data:"
   ]
  },
  {
   "cell_type": "code",
   "execution_count": 4,
   "metadata": {},
   "outputs": [
    {
     "data": {
      "text/html": [
       "<div>\n",
       "<style scoped>\n",
       "    .dataframe tbody tr th:only-of-type {\n",
       "        vertical-align: middle;\n",
       "    }\n",
       "\n",
       "    .dataframe tbody tr th {\n",
       "        vertical-align: top;\n",
       "    }\n",
       "\n",
       "    .dataframe thead th {\n",
       "        text-align: right;\n",
       "    }\n",
       "</style>\n",
       "<table border=\"1\" class=\"dataframe\">\n",
       "  <thead>\n",
       "    <tr style=\"text-align: right;\">\n",
       "      <th></th>\n",
       "      <th>start_id</th>\n",
       "      <th>end_id</th>\n",
       "      <th>start_time</th>\n",
       "      <th>end_time</th>\n",
       "    </tr>\n",
       "  </thead>\n",
       "  <tbody>\n",
       "    <tr>\n",
       "      <th>0</th>\n",
       "      <td>527</td>\n",
       "      <td>457</td>\n",
       "      <td>0.190129</td>\n",
       "      <td>23.048481</td>\n",
       "    </tr>\n",
       "    <tr>\n",
       "      <th>1</th>\n",
       "      <td>796</td>\n",
       "      <td>683</td>\n",
       "      <td>0.340873</td>\n",
       "      <td>13.876909</td>\n",
       "    </tr>\n",
       "    <tr>\n",
       "      <th>2</th>\n",
       "      <td>511</td>\n",
       "      <td>598</td>\n",
       "      <td>0.495823</td>\n",
       "      <td>4.606191</td>\n",
       "    </tr>\n",
       "    <tr>\n",
       "      <th>3</th>\n",
       "      <td>716</td>\n",
       "      <td>130</td>\n",
       "      <td>0.681995</td>\n",
       "      <td>13.372519</td>\n",
       "    </tr>\n",
       "    <tr>\n",
       "      <th>4</th>\n",
       "      <td>734</td>\n",
       "      <td>48</td>\n",
       "      <td>1.216238</td>\n",
       "      <td>31.401622</td>\n",
       "    </tr>\n",
       "    <tr>\n",
       "      <th>...</th>\n",
       "      <td>...</td>\n",
       "      <td>...</td>\n",
       "      <td>...</td>\n",
       "      <td>...</td>\n",
       "    </tr>\n",
       "    <tr>\n",
       "      <th>4098750</th>\n",
       "      <td>121</td>\n",
       "      <td>516</td>\n",
       "      <td>161274.389035</td>\n",
       "      <td>161276.992114</td>\n",
       "    </tr>\n",
       "    <tr>\n",
       "      <th>4098751</th>\n",
       "      <td>50</td>\n",
       "      <td>50</td>\n",
       "      <td>161274.733236</td>\n",
       "      <td>161275.210787</td>\n",
       "    </tr>\n",
       "    <tr>\n",
       "      <th>4098752</th>\n",
       "      <td>407</td>\n",
       "      <td>506</td>\n",
       "      <td>161274.870604</td>\n",
       "      <td>161279.939644</td>\n",
       "    </tr>\n",
       "    <tr>\n",
       "      <th>4098753</th>\n",
       "      <td>625</td>\n",
       "      <td>652</td>\n",
       "      <td>161275.325387</td>\n",
       "      <td>161278.484946</td>\n",
       "    </tr>\n",
       "    <tr>\n",
       "      <th>4098754</th>\n",
       "      <td>220</td>\n",
       "      <td>226</td>\n",
       "      <td>161275.837980</td>\n",
       "      <td>161277.090319</td>\n",
       "    </tr>\n",
       "  </tbody>\n",
       "</table>\n",
       "<p>4098755 rows × 4 columns</p>\n",
       "</div>"
      ],
      "text/plain": [
       "         start_id  end_id     start_time       end_time\n",
       "0             527     457       0.190129      23.048481\n",
       "1             796     683       0.340873      13.876909\n",
       "2             511     598       0.495823       4.606191\n",
       "3             716     130       0.681995      13.372519\n",
       "4             734      48       1.216238      31.401622\n",
       "...           ...     ...            ...            ...\n",
       "4098750       121     516  161274.389035  161276.992114\n",
       "4098751        50      50  161274.733236  161275.210787\n",
       "4098752       407     506  161274.870604  161279.939644\n",
       "4098753       625     652  161275.325387  161278.484946\n",
       "4098754       220     226  161275.837980  161277.090319\n",
       "\n",
       "[4098755 rows x 4 columns]"
      ]
     },
     "execution_count": 4,
     "metadata": {},
     "output_type": "execute_result"
    }
   ],
   "source": [
    "santander_train"
   ]
  },
  {
   "cell_type": "markdown",
   "metadata": {},
   "source": [
    "Define a `gb_mep` object `G` using the DataFrame `santander_train`, mapping of station names to labels given by `santander_dictionary`, and matrix of node distances `santander_distances`, and define two dictionaries `start_times` and `end_times` from `G` via the function `augment_start_times`, with input `santander_test`:"
   ]
  },
  {
   "cell_type": "code",
   "execution_count": 5,
   "metadata": {},
   "outputs": [],
   "source": [
    "G = gb_mep.gb_mep(df=santander_train, id_map=santander_dictionary, distance_matrix=santander_distances)\n",
    "start_times, end_times = G.augment_start_times(santander_test)"
   ]
  },
  {
   "cell_type": "markdown",
   "metadata": {},
   "source": [
    "Fit a Poisson process to the training data used to construct `G`:"
   ]
  },
  {
   "cell_type": "code",
   "execution_count": 6,
   "metadata": {},
   "outputs": [],
   "source": [
    "res_pp = G.fit_poisson()"
   ]
  },
  {
   "cell_type": "markdown",
   "metadata": {},
   "source": [
    "Fit a mutually exciting process to the training data used to construct `G`, which models to the start times only as a function of the end times at the same station:"
   ]
  },
  {
   "cell_type": "code",
   "execution_count": 7,
   "metadata": {},
   "outputs": [
    {
     "name": "stdout",
     "output_type": "stream",
     "text": [
      " 9 - Addison Road, Holland Park                            \r"
     ]
    }
   ],
   "source": [
    "res_mep = G.fit(x0=-4*np.ones(3), subset_nodes=range(10), start_times=False, end_times=True, distance_start=False, distance_end=False)"
   ]
  },
  {
   "cell_type": "markdown",
   "metadata": {},
   "source": [
    "Fit a self-exciting process to the training data used to construct `G`, which models to the start times only as a function of the start times at the same station:"
   ]
  },
  {
   "cell_type": "code",
   "execution_count": 8,
   "metadata": {},
   "outputs": [
    {
     "name": "stdout",
     "output_type": "stream",
     "text": [
      " 9 - Addison Road, Holland Park                            \r"
     ]
    }
   ],
   "source": [
    "res_sep = G.fit(x0=-4*np.ones(3), subset_nodes=range(10), start_times=True, end_times=False, distance_start=False, distance_end=False)"
   ]
  },
  {
   "cell_type": "markdown",
   "metadata": {},
   "source": [
    "Fit a self-and-mutually exciting process to the training data used to construct `G`, which models to the start times only as a function of the event times occurred at the same station:"
   ]
  },
  {
   "cell_type": "code",
   "execution_count": 9,
   "metadata": {},
   "outputs": [
    {
     "name": "stdout",
     "output_type": "stream",
     "text": [
      " 9 - Addison Road, Holland Park                            \r"
     ]
    }
   ],
   "source": [
    "start_vals = gb_mep.combine_dictionaries(d1=res_sep, d2=res_mep, cut_d2=1, add_in_between=None)\n",
    "res_smep = G.fit(x0=start_vals, subset_nodes=range(10), start_times=True, end_times=True, distance_start=False, distance_end=False)"
   ]
  },
  {
   "cell_type": "code",
   "execution_count": 10,
   "metadata": {},
   "outputs": [
    {
     "name": "stdout",
     "output_type": "stream",
     "text": [
      " 9 - Addison Road, Holland Park                            \r"
     ]
    }
   ],
   "source": [
    "start_vals = gb_mep.append_to_dictionary(d=res_sep, val=np.log(1))\n",
    "res_gbmep_start = G.fit(x0=start_vals, subset_nodes=range(10), start_times=True, end_times=False, distance_start=True, distance_end=False, thresh=.5, min_nodes=3)"
   ]
  },
  {
   "cell_type": "code",
   "execution_count": 11,
   "metadata": {},
   "outputs": [
    {
     "name": "stdout",
     "output_type": "stream",
     "text": [
      " 9 - Addison Road, Holland Park                            \r"
     ]
    }
   ],
   "source": [
    "start_vals = gb_mep.insert_in_dictionary(d=res_smep, val=np.log(1), pos=3)\n",
    "res_gbmep = G.fit(x0=start_vals, subset_nodes=range(10), start_times=True, end_times=True, distance_start=True, distance_end=False, thresh=.5, min_nodes=3)"
   ]
  },
  {
   "cell_type": "code",
   "execution_count": 12,
   "metadata": {},
   "outputs": [
    {
     "name": "stdout",
     "output_type": "stream",
     "text": [
      " 9 - Addison Road, Holland Park                            \r"
     ]
    }
   ],
   "source": [
    "start_vals = gb_mep.append_to_dictionary(gb_mep.insert_in_dictionary(d=res_smep, val=np.log(1), pos=3), val=np.log(1))\n",
    "res_gbmep_full = G.fit(x0=start_vals, subset_nodes=range(10), start_times=True, end_times=True, distance_start=True, distance_end=True, thresh=.5, min_nodes=3)"
   ]
  },
  {
   "cell_type": "markdown",
   "metadata": {},
   "source": [
    "Calculate the $p$-values for all processes, for the node with index `8`:"
   ]
  },
  {
   "cell_type": "code",
   "execution_count": 28,
   "metadata": {},
   "outputs": [],
   "source": [
    "index = 8\n",
    "# p-values for Poisson process\n",
    "p_poisson_train, p_poisson_test = G.pvals_poisson_process(param=res_pp[index], node_index=index, start_times=start_times, test_split=True)\n",
    "# p-values for MEP\n",
    "pp = gb_mep.transform_parameters(res_mep[index].x)\n",
    "p_mep_train, p_mep_test = G.pvals_mep(params=pp, node_index=index, start_times=start_times, end_times=end_times, test_split=True)\n",
    "# p-values for SEP\n",
    "pp = gb_mep.transform_parameters(res_sep[index].x)\n",
    "p_sep_train, p_sep_test = G.pvals_sep(params=pp, node_index=index, start_times=start_times, test_split=True)\n",
    "# p-values for SMEP\n",
    "pp = gb_mep.transform_parameters(res_smep[index].x)\n",
    "p_smep_train, p_smep_test = G.pvals_smep(params=pp, node_index=index, start_times=start_times, end_times=end_times, test_split=True)\n",
    "# p-values for GB-MEP with start times only\n",
    "pp  = gb_mep.transform_parameters(res_gbmep_start[index].x)\n",
    "p_gbmep_start_train, p_gbmep_start_test = G.pvals_gbmep_start(params=pp, node_index=index, subset_nodes=res_gbmep_start[index].subset_nodes, start_times=start_times, test_split=True)\n",
    "# p-values for GB-MEP\n",
    "pp = gb_mep.transform_parameters(res_gbmep[index].x)\n",
    "p_gbmep_train, p_gbmep_test = G.pvals_gbmep_start_self(params=pp, node_index=index, subset_nodes=res_gbmep[index].subset_nodes, start_times=start_times, end_times=end_times, test_split=True)\n",
    "# p-values for GB-MEP (full)\n",
    "pp = gb_mep.transform_parameters(res_gbmep_full[index].x)\n",
    "p_gbmep_full_train, p_gbmep_full_test = G.pvals_gbmep(params=pp, node_index=index, subset_nodes=res_gbmep[index].subset_nodes, start_times=start_times, end_times=end_times, test_split=True)"
   ]
  },
  {
   "cell_type": "markdown",
   "metadata": {},
   "source": [
    "Calculate the observed quantiles for all distributions of $p$-values in the test set:"
   ]
  },
  {
   "cell_type": "code",
   "execution_count": 29,
   "metadata": {},
   "outputs": [],
   "source": [
    "x = np.linspace(start=0, stop=1, num=501, endpoint=False)[1:]\n",
    "y_poisson = np.percentile(a=p_poisson_test, q=x*100)\n",
    "y_mep = np.percentile(a=p_mep_test, q=x*100)\n",
    "y_sep = np.percentile(a=p_sep_test, q=x*100)\n",
    "y_smep = np.percentile(a=p_smep_test, q=x*100)\n",
    "y_gbmep_start = np.percentile(a=p_gbmep_start_test, q=x*100)\n",
    "y_gbmep = np.percentile(a=p_gbmep_test, q=x*100)\n",
    "y_gbmep_full = np.percentile(a=p_gbmep_full_test, q=x*100)"
   ]
  },
  {
   "cell_type": "markdown",
   "metadata": {},
   "source": [
    "Plot observed quantiles against the theoretical quantiles under the null hypothesis of correct model specification:"
   ]
  },
  {
   "cell_type": "code",
   "execution_count": 30,
   "metadata": {},
   "outputs": [
    {
     "data": {
      "image/png": "[encoded data removed]",
      "text/plain": [
       "<Figure size 640x480 with 1 Axes>"
      ]
     },
     "metadata": {},
     "output_type": "display_data"
    }
   ],
   "source": [
    "plt.plot(x, y_poisson, label='Poisson process', ls='dashed', c='lightgray')\n",
    "plt.plot(x, y_mep, label='MEP', ls='dotted', c='lightgray')\n",
    "plt.plot(x, y_sep, label='SEP', c='lightgray')\n",
    "plt.plot(x, y_smep, label='SMEP', ls='dashed', c='black')\n",
    "plt.plot(x, y_gbmep_start, label='GB-MEP (start times only)', ls='dotted', c='black')\n",
    "plt.plot(x, y_gbmep, label='GB-MEP', c='black')\n",
    "plt.plot(x, y_gbmep_full, label='GB-MEP (full)', c='red')\n",
    "plt.plot(x, x, label='Uniform', c='green', ls='dashdot')\n",
    "plt.xlabel('Theoretical quantiles')\n",
    "plt.ylabel('Observed quantiles')\n",
    "plt.legend()\n",
    "plt.show()"
   ]
  },
  {
   "cell_type": "markdown",
   "metadata": {},
   "source": [
    "Perform Kolmogorov-Smirnov tests:"
   ]
  },
  {
   "cell_type": "code",
   "execution_count": 31,
   "metadata": {},
   "outputs": [],
   "source": [
    "import scipy.stats as stats\n",
    "k_poisson = stats.kstest(p_poisson_train, stats.uniform.cdf).statistic\n",
    "k_mep = stats.kstest(p_mep_train, stats.uniform.cdf).statistic\n",
    "k_sep = stats.kstest(p_sep_train, stats.uniform.cdf).statistic\n",
    "k_smep = stats.kstest(p_smep_train, stats.uniform.cdf).statistic\n",
    "k_gbmep_start = stats.kstest(p_gbmep_start_train, stats.uniform.cdf).statistic\n",
    "k_gbmep = stats.kstest(p_gbmep_train, stats.uniform.cdf).statistic\n",
    "k_gbmep_full = stats.kstest(p_gbmep_full_train, stats.uniform.cdf).statistic"
   ]
  },
  {
   "cell_type": "markdown",
   "metadata": {},
   "source": [
    "Display results:"
   ]
  },
  {
   "cell_type": "code",
   "execution_count": 32,
   "metadata": {},
   "outputs": [
    {
     "data": {
      "text/plain": [
       "(0.2325030211544643,\n",
       " 0.2089583608250496,\n",
       " 0.0867660878634745,\n",
       " 0.06581566810728068,\n",
       " 0.09347352227394246,\n",
       " 0.08446138130084713,\n",
       " 0.0341730468788759)"
      ]
     },
     "execution_count": 32,
     "metadata": {},
     "output_type": "execute_result"
    }
   ],
   "source": [
    "k_poisson, k_mep, k_sep, k_smep, k_gbmep_start, k_gbmep, k_gbmep_full"
   ]
  },
  {
   "cell_type": "code",
   "execution_count": 33,
   "metadata": {},
   "outputs": [
    {
     "data": {
      "text/plain": [
       "(0.2583443392994127,\n",
       " 0.2018388770718088,\n",
       " 0.09662861305011483,\n",
       " 0.07108408886953987,\n",
       " 0.1073994327397001,\n",
       " 0.09780671789366135,\n",
       " 0.04215804890989705)"
      ]
     },
     "execution_count": 33,
     "metadata": {},
     "output_type": "execute_result"
    }
   ],
   "source": [
    "import scipy.stats as stats\n",
    "k_poisson = stats.kstest(p_poisson_test, stats.uniform.cdf).statistic\n",
    "k_mep = stats.kstest(p_mep_test, stats.uniform.cdf).statistic\n",
    "k_sep = stats.kstest(p_sep_test, stats.uniform.cdf).statistic\n",
    "k_smep = stats.kstest(p_smep_test, stats.uniform.cdf).statistic\n",
    "k_gbmep_start = stats.kstest(p_gbmep_start_test, stats.uniform.cdf).statistic\n",
    "k_gbmep = stats.kstest(p_gbmep_test, stats.uniform.cdf).statistic\n",
    "k_gbmep_full = stats.kstest(p_gbmep_full_test, stats.uniform.cdf).statistic\n",
    "k_poisson, k_mep, k_sep, k_smep, k_gbmep_start, k_gbmep, k_gbmep_full"
   ]
  }
 ],
 "metadata": {
  "kernelspec": {
   "display_name": "Python 3",
   "language": "python",
   "name": "python3"
  },
  "language_info": {
   "codemirror_mode": {
    "name": "ipython",
    "version": 3
   },
   "file_extension": ".py",
   "mimetype": "text/x-python",
   "name": "python",
   "nbconvert_exporter": "python",
   "pygments_lexer": "ipython3",
   "version": "3.11.4"
  }
 },
 "nbformat": 4,
 "nbformat_minor": 2
}
