{
 "cells": [
  {
   "cell_type": "code",
   "execution_count": 1,
   "metadata": {},
   "outputs": [],
   "source": [
    "## Import library gb_mep\n",
    "import gb_mep"
   ]
  },
  {
   "cell_type": "code",
   "execution_count": 2,
   "metadata": {},
   "outputs": [],
   "source": [
    "## Load all required files after importing relevant libraries\n",
    "import pickle\n",
    "import numpy as np\n",
    "import pandas as pd\n",
    "santander_train = pd.read_csv('../data/santander_train.csv') \n",
    "santander_test = pd.read_csv('../data/santander_test.csv') \n",
    "santander_distances = np.load('../data/santander_distances.npy')\n",
    "with open('../data/santander_dictionary.pkl', 'rb') as f:\n",
    "    santander_dictionary = pickle.load(f)\n"
   ]
  },
  {
   "cell_type": "code",
   "execution_count": 3,
   "metadata": {},
   "outputs": [
    {
     "data": {
      "text/html": [
       "<div>\n",
       "<style scoped>\n",
       "    .dataframe tbody tr th:only-of-type {\n",
       "        vertical-align: middle;\n",
       "    }\n",
       "\n",
       "    .dataframe tbody tr th {\n",
       "        vertical-align: top;\n",
       "    }\n",
       "\n",
       "    .dataframe thead th {\n",
       "        text-align: right;\n",
       "    }\n",
       "</style>\n",
       "<table border=\"1\" class=\"dataframe\">\n",
       "  <thead>\n",
       "    <tr style=\"text-align: right;\">\n",
       "      <th></th>\n",
       "      <th>start_id</th>\n",
       "      <th>end_id</th>\n",
       "      <th>start_time</th>\n",
       "      <th>end_time</th>\n",
       "    </tr>\n",
       "  </thead>\n",
       "  <tbody>\n",
       "    <tr>\n",
       "      <th>0</th>\n",
       "      <td>722</td>\n",
       "      <td>131</td>\n",
       "      <td>0.483492</td>\n",
       "      <td>13.192747</td>\n",
       "    </tr>\n",
       "    <tr>\n",
       "      <th>1</th>\n",
       "      <td>531</td>\n",
       "      <td>460</td>\n",
       "      <td>0.484768</td>\n",
       "      <td>23.477447</td>\n",
       "    </tr>\n",
       "    <tr>\n",
       "      <th>2</th>\n",
       "      <td>515</td>\n",
       "      <td>603</td>\n",
       "      <td>0.624303</td>\n",
       "      <td>4.196019</td>\n",
       "    </tr>\n",
       "    <tr>\n",
       "      <th>3</th>\n",
       "      <td>804</td>\n",
       "      <td>689</td>\n",
       "      <td>0.807900</td>\n",
       "      <td>13.604670</td>\n",
       "    </tr>\n",
       "    <tr>\n",
       "      <th>4</th>\n",
       "      <td>740</td>\n",
       "      <td>48</td>\n",
       "      <td>1.568787</td>\n",
       "      <td>31.912915</td>\n",
       "    </tr>\n",
       "    <tr>\n",
       "      <th>...</th>\n",
       "      <td>...</td>\n",
       "      <td>...</td>\n",
       "      <td>...</td>\n",
       "      <td>...</td>\n",
       "    </tr>\n",
       "    <tr>\n",
       "      <th>6453258</th>\n",
       "      <td>302</td>\n",
       "      <td>637</td>\n",
       "      <td>241912.321072</td>\n",
       "      <td>241919.498489</td>\n",
       "    </tr>\n",
       "    <tr>\n",
       "      <th>6453259</th>\n",
       "      <td>740</td>\n",
       "      <td>342</td>\n",
       "      <td>241912.686823</td>\n",
       "      <td>241919.489431</td>\n",
       "    </tr>\n",
       "    <tr>\n",
       "      <th>6453260</th>\n",
       "      <td>327</td>\n",
       "      <td>324</td>\n",
       "      <td>241913.941339</td>\n",
       "      <td>241917.596443</td>\n",
       "    </tr>\n",
       "    <tr>\n",
       "      <th>6453261</th>\n",
       "      <td>224</td>\n",
       "      <td>337</td>\n",
       "      <td>241913.962367</td>\n",
       "      <td>241919.498538</td>\n",
       "    </tr>\n",
       "    <tr>\n",
       "      <th>6453262</th>\n",
       "      <td>744</td>\n",
       "      <td>744</td>\n",
       "      <td>241917.408859</td>\n",
       "      <td>241918.379397</td>\n",
       "    </tr>\n",
       "  </tbody>\n",
       "</table>\n",
       "<p>6453263 rows × 4 columns</p>\n",
       "</div>"
      ],
      "text/plain": [
       "         start_id  end_id     start_time       end_time\n",
       "0             722     131       0.483492      13.192747\n",
       "1             531     460       0.484768      23.477447\n",
       "2             515     603       0.624303       4.196019\n",
       "3             804     689       0.807900      13.604670\n",
       "4             740      48       1.568787      31.912915\n",
       "...           ...     ...            ...            ...\n",
       "6453258       302     637  241912.321072  241919.498489\n",
       "6453259       740     342  241912.686823  241919.489431\n",
       "6453260       327     324  241913.941339  241917.596443\n",
       "6453261       224     337  241913.962367  241919.498538\n",
       "6453262       744     744  241917.408859  241918.379397\n",
       "\n",
       "[6453263 rows x 4 columns]"
      ]
     },
     "execution_count": 3,
     "metadata": {},
     "output_type": "execute_result"
    }
   ],
   "source": [
    "santander_train"
   ]
  },
  {
   "cell_type": "code",
   "execution_count": 4,
   "metadata": {},
   "outputs": [],
   "source": [
    "G = gb_mep.gb_mep(df=santander_train, id_map=santander_dictionary, distance_matrix=santander_distances)\n"
   ]
  },
  {
   "cell_type": "code",
   "execution_count": 5,
   "metadata": {},
   "outputs": [
    {
     "name": "stdout",
     "output_type": "stream",
     "text": [
      " 2 - Aberdeen Place, St. John's Wood                       \r"
     ]
    }
   ],
   "source": [
    "res1 = G.fit(x0=-np.ones(3), subset_nodes=range(3), start_times=False, end_times=True, distance_start=False, distance_end=False, thresh=1)\n",
    "res2 = G.fit(x0=-np.ones(3), subset_nodes=range(3), start_times=True, end_times=False, distance_start=False, distance_end=False, thresh=1)\n",
    "res3 = G.fit(x0=-np.ones(5), subset_nodes=range(3), start_times=True, end_times=True, distance_start=False, distance_end=False, thresh=1)"
   ]
  },
  {
   "cell_type": "code",
   "execution_count": 14,
   "metadata": {},
   "outputs": [
    {
     "name": "stdout",
     "output_type": "stream",
     "text": [
      " 2 - Aberdeen Place, St. John's Wood                       \r"
     ]
    }
   ],
   "source": [
    "res4 = G.fit(x0=-np.ones(4), subset_nodes=range(3), start_times=True, end_times=False, distance_start=True, distance_end=False, thresh=1)"
   ]
  },
  {
   "cell_type": "code",
   "execution_count": 29,
   "metadata": {},
   "outputs": [
    {
     "name": "stdout",
     "output_type": "stream",
     "text": [
      " 0 - Abbey Orchard Street, Westminster                     \r"
     ]
    }
   ],
   "source": [
    "res5 = {}\n",
    "for node in res4:\n",
    "    r = G.fit(x0=np.concatenate((res4[node].x, res3[node].x[3:5])), subset_nodes=[node], start_times=True, end_times=True, distance_start=True, distance_end=False, thresh=1)\n",
    "    res5[node] = r[node]"
   ]
  },
  {
   "cell_type": "code",
   "execution_count": 25,
   "metadata": {},
   "outputs": [],
   "source": [
    "index = 1\n",
    "q_pp = G.pvals_poisson_process(param=G.N[index]/G.T, node_index=index)\n",
    "pp = np.exp(res1[index].x)\n",
    "pp[2] += pp[1]\n",
    "q_mep = G.pvals_mep(params=pp, node_index=index)\n",
    "pp = np.exp(res2[index].x)\n",
    "pp[2] += pp[1]\n",
    "q_sep = G.pvals_sep(params=pp, node_index=index)\n",
    "pp = np.exp(res3[index].x)\n",
    "pp[2] += pp[1]; pp[4] += pp[3]\n",
    "q_smep = G.pvals_smep(params=pp, node_index=index)\n",
    "pp = np.exp(res4[index].x)\n",
    "pp[2] += pp[1]\n",
    "q_gbmep_self = G.pvals_gbmep_start(params=pp, node_index=index, thresh=1)\n",
    "pp = np.exp(res4[index].x)\n",
    "pp[2] += pp[1]; pp[5] += pp[4]\n",
    "q_gbmep = G.pvals_gbmep_start_self(params=pp, node_index=index, thresh=1)"
   ]
  },
  {
   "cell_type": "code",
   "execution_count": 26,
   "metadata": {},
   "outputs": [
    {
     "data": {
      "text/plain": [
       "[<matplotlib.lines.Line2D at 0x2aee2e890>]"
      ]
     },
     "execution_count": 26,
     "metadata": {},
     "output_type": "execute_result"
    },
    {
     "data": {
      "image/png": "[encoded data removed]",
      "text/plain": [
       "<Figure size 640x480 with 1 Axes>"
      ]
     },
     "metadata": {},
     "output_type": "display_data"
    }
   ],
   "source": [
    "x = np.linspace(start=0, stop=1, num=501, endpoint=False)[1:]\n",
    "y1 = np.percentile(a=q_pp, q=x*100)\n",
    "y2 = np.percentile(a=q_mep, q=x*100)\n",
    "y3 = np.percentile(a=q_sep, q=x*100)\n",
    "y4 = np.percentile(a=q_smep, q=x*100)\n",
    "y5 = np.percentile(a=q_gbmep_self, q=x*100)\n",
    "y6= np.percentile(a=q_gbmep, q=x*100)\n",
    "import matplotlib.pyplot as plt\n",
    "plt.plot(x,y1,label='PP')\n",
    "plt.plot(x,y2,label='MEP')\n",
    "plt.plot(x,y3, label='SEP')\n",
    "plt.plot(x,y4, label='SMEP')\n",
    "plt.plot(x,y5, label='GB-MEP (self)')\n",
    "plt.plot(x,y6, label='GB-MEP')\n",
    "plt.legend()\n",
    "plt.plot(x,x)"
   ]
  },
  {
   "cell_type": "code",
   "execution_count": 27,
   "metadata": {},
   "outputs": [],
   "source": [
    "import scipy.stats as stats\n",
    "k1 = stats.kstest(q_pp, stats.uniform.cdf)\n",
    "k2 = stats.kstest(q_mep, stats.uniform.cdf)\n",
    "k3 = stats.kstest(q_sep, stats.uniform.cdf)\n",
    "k4 = stats.kstest(q_smep, stats.uniform.cdf)\n",
    "k5 = stats.kstest(q_gbmep_self, stats.uniform.cdf)\n",
    "k6 = stats.kstest(q_gbmep, stats.uniform.cdf)"
   ]
  },
  {
   "cell_type": "code",
   "execution_count": 28,
   "metadata": {},
   "outputs": [
    {
     "data": {
      "text/plain": [
       "(KstestResult(statistic=0.21387282682984698, pvalue=2.374962696518135e-131, statistic_location=0.8058973667071476, statistic_sign=-1),\n",
       " KstestResult(statistic=0.1935448231626662, pvalue=1.9056123113389757e-107, statistic_location=0.8785141483160405, statistic_sign=-1),\n",
       " KstestResult(statistic=0.1145891874202532, pvalue=9.553718104475358e-38, statistic_location=0.42379164140798325, statistic_sign=-1),\n",
       " KstestResult(statistic=0.06190842745749958, pvalue=2.6425439929873835e-11, statistic_location=0.5616016789912419, statistic_sign=-1),\n",
       " KstestResult(statistic=0.1080912808052853, pvalue=1.264200910349951e-33, statistic_location=0.9136127531979233, statistic_sign=-1))"
      ]
     },
     "execution_count": 28,
     "metadata": {},
     "output_type": "execute_result"
    }
   ],
   "source": [
    "k1, k2, k3, k4, k5, k6"
   ]
  }
 ],
 "metadata": {
  "kernelspec": {
   "display_name": "Python 3",
   "language": "python",
   "name": "python3"
  },
  "language_info": {
   "codemirror_mode": {
    "name": "ipython",
    "version": 3
   },
   "file_extension": ".py",
   "mimetype": "text/x-python",
   "name": "python",
   "nbconvert_exporter": "python",
   "pygments_lexer": "ipython3",
   "version": "3.11.4"
  }
 },
 "nbformat": 4,
 "nbformat_minor": 2
}
