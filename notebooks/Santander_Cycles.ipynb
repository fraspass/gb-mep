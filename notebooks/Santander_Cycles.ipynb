{
 "cells": [
  {
   "cell_type": "code",
   "execution_count": 1,
   "metadata": {},
   "outputs": [],
   "source": [
    "## Import library gb_mep\n",
    "import gb_mep"
   ]
  },
  {
   "cell_type": "code",
   "execution_count": 2,
   "metadata": {},
   "outputs": [],
   "source": [
    "## Load all required files after importing relevant libraries\n",
    "import pickle\n",
    "import numpy as np\n",
    "import pandas as pd\n",
    "santander_train = pd.read_csv('../data/santander_train.csv') \n",
    "santander_test = pd.read_csv('../data/santander_test.csv') \n",
    "santander_distances = np.load('../data/santander_distances.npy')\n",
    "with open('../data/santander_dictionary.pkl', 'rb') as f:\n",
    "    santander_dictionary = pickle.load(f)\n"
   ]
  },
  {
   "cell_type": "code",
   "execution_count": 3,
   "metadata": {},
   "outputs": [
    {
     "data": {
      "text/html": [
       "<div>\n",
       "<style scoped>\n",
       "    .dataframe tbody tr th:only-of-type {\n",
       "        vertical-align: middle;\n",
       "    }\n",
       "\n",
       "    .dataframe tbody tr th {\n",
       "        vertical-align: top;\n",
       "    }\n",
       "\n",
       "    .dataframe thead th {\n",
       "        text-align: right;\n",
       "    }\n",
       "</style>\n",
       "<table border=\"1\" class=\"dataframe\">\n",
       "  <thead>\n",
       "    <tr style=\"text-align: right;\">\n",
       "      <th></th>\n",
       "      <th>start_id</th>\n",
       "      <th>end_id</th>\n",
       "      <th>start_time</th>\n",
       "      <th>end_time</th>\n",
       "    </tr>\n",
       "  </thead>\n",
       "  <tbody>\n",
       "    <tr>\n",
       "      <th>0</th>\n",
       "      <td>722</td>\n",
       "      <td>131</td>\n",
       "      <td>0.483492</td>\n",
       "      <td>13.192747</td>\n",
       "    </tr>\n",
       "    <tr>\n",
       "      <th>1</th>\n",
       "      <td>531</td>\n",
       "      <td>460</td>\n",
       "      <td>0.484768</td>\n",
       "      <td>23.477447</td>\n",
       "    </tr>\n",
       "    <tr>\n",
       "      <th>2</th>\n",
       "      <td>515</td>\n",
       "      <td>603</td>\n",
       "      <td>0.624303</td>\n",
       "      <td>4.196019</td>\n",
       "    </tr>\n",
       "    <tr>\n",
       "      <th>3</th>\n",
       "      <td>804</td>\n",
       "      <td>689</td>\n",
       "      <td>0.807900</td>\n",
       "      <td>13.604670</td>\n",
       "    </tr>\n",
       "    <tr>\n",
       "      <th>4</th>\n",
       "      <td>740</td>\n",
       "      <td>48</td>\n",
       "      <td>1.568787</td>\n",
       "      <td>31.912915</td>\n",
       "    </tr>\n",
       "    <tr>\n",
       "      <th>...</th>\n",
       "      <td>...</td>\n",
       "      <td>...</td>\n",
       "      <td>...</td>\n",
       "      <td>...</td>\n",
       "    </tr>\n",
       "    <tr>\n",
       "      <th>6453258</th>\n",
       "      <td>302</td>\n",
       "      <td>637</td>\n",
       "      <td>241912.321072</td>\n",
       "      <td>241919.498489</td>\n",
       "    </tr>\n",
       "    <tr>\n",
       "      <th>6453259</th>\n",
       "      <td>740</td>\n",
       "      <td>342</td>\n",
       "      <td>241912.686823</td>\n",
       "      <td>241919.489431</td>\n",
       "    </tr>\n",
       "    <tr>\n",
       "      <th>6453260</th>\n",
       "      <td>327</td>\n",
       "      <td>324</td>\n",
       "      <td>241913.941339</td>\n",
       "      <td>241917.596443</td>\n",
       "    </tr>\n",
       "    <tr>\n",
       "      <th>6453261</th>\n",
       "      <td>224</td>\n",
       "      <td>337</td>\n",
       "      <td>241913.962367</td>\n",
       "      <td>241919.498538</td>\n",
       "    </tr>\n",
       "    <tr>\n",
       "      <th>6453262</th>\n",
       "      <td>744</td>\n",
       "      <td>744</td>\n",
       "      <td>241917.408859</td>\n",
       "      <td>241918.379397</td>\n",
       "    </tr>\n",
       "  </tbody>\n",
       "</table>\n",
       "<p>6453263 rows × 4 columns</p>\n",
       "</div>"
      ],
      "text/plain": [
       "         start_id  end_id     start_time       end_time\n",
       "0             722     131       0.483492      13.192747\n",
       "1             531     460       0.484768      23.477447\n",
       "2             515     603       0.624303       4.196019\n",
       "3             804     689       0.807900      13.604670\n",
       "4             740      48       1.568787      31.912915\n",
       "...           ...     ...            ...            ...\n",
       "6453258       302     637  241912.321072  241919.498489\n",
       "6453259       740     342  241912.686823  241919.489431\n",
       "6453260       327     324  241913.941339  241917.596443\n",
       "6453261       224     337  241913.962367  241919.498538\n",
       "6453262       744     744  241917.408859  241918.379397\n",
       "\n",
       "[6453263 rows x 4 columns]"
      ]
     },
     "execution_count": 3,
     "metadata": {},
     "output_type": "execute_result"
    }
   ],
   "source": [
    "santander_train"
   ]
  },
  {
   "cell_type": "code",
   "execution_count": 4,
   "metadata": {},
   "outputs": [],
   "source": [
    "G = gb_mep.gb_mep(df=santander_train, id_map=santander_dictionary, distance_matrix=santander_distances)\n",
    "self = G\n"
   ]
  },
  {
   "cell_type": "code",
   "execution_count": 16,
   "metadata": {},
   "outputs": [
    {
     "name": "stdout",
     "output_type": "stream",
     "text": [
      " 4 - Abingdon Green, Westminster                           \r"
     ]
    }
   ],
   "source": [
    "from scipy.optimize import minimize\n",
    "x0 = -5*np.ones(1)\n",
    "subset_nodes=list(range(5)); start_times=False; end_times=False; distance_start=True; distance_end=False; thresh=1\n",
    "# Define the dictionary for results\n",
    "res = {}\n",
    "# If the subset of nodes is not specified, consider all nodes\n",
    "if subset_nodes is None:\n",
    "    subset_nodes = self.nodes\n",
    "# Loop over all nodes in the subset\n",
    "for node in subset_nodes:\n",
    "    # Print node and name\n",
    "    print('\\r', node, '-', self.id_map[node], ' '*20, end='\\r')\n",
    "    # Obtain distances if required\n",
    "    if distance_start or distance_end:\n",
    "        ds = self.distance_matrix[node]\n",
    "    # Calculate required elements for recursion\n",
    "    time_diffs_A = {}; time_diffs_A_prime = {}\n",
    "    if not start_times and not end_times:\n",
    "        condition_full = False\n",
    "    else:\n",
    "        condition_full = True\n",
    "        condition = not (distance_start or distance_end)\n",
    "    if condition_full:\n",
    "        for secondary_node in ([node] if condition else np.where(ds < thresh)[0]):\n",
    "            if self.N[secondary_node] + self.N_prime[secondary_node] > 0:\n",
    "                start_breaks = np.searchsorted(a=self.start_times[secondary_node], v=self.start_times[node], side='left')\n",
    "                end_breaks = np.searchsorted(a=self.end_times[secondary_node], v=self.start_times[node], side='left')\n",
    "                for k, t in enumerate(self.start_times[node]):\n",
    "                    if k != 0:\n",
    "                        time_diffs_A[k, secondary_node] = t - self.start_times[secondary_node][start_breaks[k-1]:start_breaks[k]]\n",
    "                        time_diffs_A_prime[k, secondary_node] = t - self.end_times[secondary_node][end_breaks[k-1]:end_breaks[k]]\n",
    "                    else:\n",
    "                        time_diffs_A[k, secondary_node] = t - self.start_times[secondary_node][:start_breaks[k]]\n",
    "                        time_diffs_A_prime[k, secondary_node] = t - self.end_times[secondary_node][:end_breaks[k]]\n",
    "            else:\n",
    "                for k, t in enumerate(self.start_times[node]):\n",
    "                    time_diffs_A[k, secondary_node] = np.array([])\n",
    "                    time_diffs_A_prime[k, secondary_node] = np.array([])\n",
    "    # Obtain the correct log-likelihood function based on fitting parameters\n",
    "    if start_times and end_times and distance_start and distance_end:\n",
    "        f = self.negative_loglikelihood_full\n",
    "        f_args = (node, time_diffs_A, time_diffs_A_prime, np.where(ds < thresh)[0])\n",
    "    elif start_times and end_times and distance_start and not distance_end:\n",
    "        f = self.negative_loglikelihood_full_start\n",
    "        f_args = (node, time_diffs_A, time_diffs_A_prime, np.where(ds < thresh)[0])\n",
    "    elif start_times and end_times and not distance_start and not distance_end:\n",
    "        f = self.negative_loglikelihood_smep\n",
    "        f_args = (node, time_diffs_A, time_diffs_A_prime)\n",
    "    elif start_times and not end_times:\n",
    "        f = self.negative_loglikelihood_sep\n",
    "        f_args = (node, time_diffs_A)\n",
    "    elif not start_times and end_times:\n",
    "        f = self.negative_loglikelihood_mep\n",
    "        f_args = (node, time_diffs_A_prime)\n",
    "    elif not start_times and not end_times:\n",
    "        f = 'Poisson'\n",
    "    # Minimise negative log-likelihood, or obtain exact solution if the function is simply the Poisson process\n",
    "    if f == 'Poisson':\n",
    "        res[node] = len(self.start_times[node]) / self.T\n",
    "    else:\n",
    "        res[node] = minimize(fun=f, x0=x0, args=f_args, method='L-BFGS-B')"
   ]
  },
  {
   "cell_type": "code",
   "execution_count": 21,
   "metadata": {},
   "outputs": [],
   "source": [
    "pp = np.exp(res[4])\n",
    "q = G.pvals_poisson_process(param=pp, node_index=4)"
   ]
  },
  {
   "cell_type": "code",
   "execution_count": 27,
   "metadata": {},
   "outputs": [
    {
     "data": {
      "text/plain": [
       "[<matplotlib.lines.Line2D at 0x2a985ae90>]"
      ]
     },
     "execution_count": 27,
     "metadata": {},
     "output_type": "execute_result"
    },
    {
     "data": {
      "image/png": "[encoded data removed]",
      "text/plain": [
       "<Figure size 640x480 with 1 Axes>"
      ]
     },
     "metadata": {},
     "output_type": "display_data"
    }
   ],
   "source": [
    "x = np.linspace(start=0, stop=1, num=501, endpoint=False)[1:]\n",
    "y = np.percentile(a=q, q=x*100)\n",
    "import matplotlib.pyplot as plt\n",
    "plt.plot(x,y)\n",
    "plt.plot(x,x)"
   ]
  },
  {
   "cell_type": "code",
   "execution_count": 15,
   "metadata": {},
   "outputs": [
    {
     "data": {
      "text/plain": [
       "0.9997456729360318"
      ]
     },
     "execution_count": 15,
     "metadata": {},
     "output_type": "execute_result"
    }
   ],
   "source": [
    "np.min(q)"
   ]
  }
 ],
 "metadata": {
  "kernelspec": {
   "display_name": "Python 3",
   "language": "python",
   "name": "python3"
  },
  "language_info": {
   "codemirror_mode": {
    "name": "ipython",
    "version": 3
   },
   "file_extension": ".py",
   "mimetype": "text/x-python",
   "name": "python",
   "nbconvert_exporter": "python",
   "pygments_lexer": "ipython3",
   "version": "3.11.4"
  }
 },
 "nbformat": 4,
 "nbformat_minor": 2
}
