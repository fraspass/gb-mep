{
 "cells": [
  {
   "cell_type": "markdown",
   "metadata": {},
   "source": [
    "# Modelling event times on the Santander Cycles data using graph-based mutually exciting processes (GB-MEP)\n",
    "First, import the library `gb_mep`:"
   ]
  },
  {
   "cell_type": "code",
   "execution_count": 1,
   "metadata": {},
   "outputs": [],
   "source": [
    "## Import library gb_mep\n",
    "import gb_mep"
   ]
  },
  {
   "cell_type": "markdown",
   "metadata": {},
   "source": [
    "Next, import the Santander Cycles data from the directory `data` (after running the scripts for data preprocessing, as detailed in the main `README` file for the library `gb_mep`)."
   ]
  },
  {
   "cell_type": "code",
   "execution_count": 2,
   "metadata": {},
   "outputs": [],
   "source": [
    "## Load all required files after importing relevant libraries\n",
    "import pickle\n",
    "import numpy as np\n",
    "import pandas as pd\n",
    "santander_train = pd.read_csv('../data/santander_train.csv') \n",
    "santander_test = pd.read_csv('../data/santander_test.csv') \n",
    "santander_distances = np.load('../data/santander_distances.npy')\n",
    "with open('../data/santander_dictionary.pkl', 'rb') as f:\n",
    "    santander_dictionary = pickle.load(f)\n"
   ]
  },
  {
   "cell_type": "markdown",
   "metadata": {},
   "source": [
    "Inspect the Santander Cycles data:"
   ]
  },
  {
   "cell_type": "code",
   "execution_count": 3,
   "metadata": {},
   "outputs": [
    {
     "data": {
      "text/html": [
       "<div>\n",
       "<style scoped>\n",
       "    .dataframe tbody tr th:only-of-type {\n",
       "        vertical-align: middle;\n",
       "    }\n",
       "\n",
       "    .dataframe tbody tr th {\n",
       "        vertical-align: top;\n",
       "    }\n",
       "\n",
       "    .dataframe thead th {\n",
       "        text-align: right;\n",
       "    }\n",
       "</style>\n",
       "<table border=\"1\" class=\"dataframe\">\n",
       "  <thead>\n",
       "    <tr style=\"text-align: right;\">\n",
       "      <th></th>\n",
       "      <th>start_id</th>\n",
       "      <th>end_id</th>\n",
       "      <th>start_time</th>\n",
       "      <th>end_time</th>\n",
       "    </tr>\n",
       "  </thead>\n",
       "  <tbody>\n",
       "    <tr>\n",
       "      <th>0</th>\n",
       "      <td>722</td>\n",
       "      <td>131</td>\n",
       "      <td>0.483492</td>\n",
       "      <td>13.192747</td>\n",
       "    </tr>\n",
       "    <tr>\n",
       "      <th>1</th>\n",
       "      <td>531</td>\n",
       "      <td>460</td>\n",
       "      <td>0.484768</td>\n",
       "      <td>23.477447</td>\n",
       "    </tr>\n",
       "    <tr>\n",
       "      <th>2</th>\n",
       "      <td>515</td>\n",
       "      <td>603</td>\n",
       "      <td>0.624303</td>\n",
       "      <td>4.196019</td>\n",
       "    </tr>\n",
       "    <tr>\n",
       "      <th>3</th>\n",
       "      <td>804</td>\n",
       "      <td>689</td>\n",
       "      <td>0.807900</td>\n",
       "      <td>13.604670</td>\n",
       "    </tr>\n",
       "    <tr>\n",
       "      <th>4</th>\n",
       "      <td>740</td>\n",
       "      <td>48</td>\n",
       "      <td>1.568787</td>\n",
       "      <td>31.912915</td>\n",
       "    </tr>\n",
       "    <tr>\n",
       "      <th>...</th>\n",
       "      <td>...</td>\n",
       "      <td>...</td>\n",
       "      <td>...</td>\n",
       "      <td>...</td>\n",
       "    </tr>\n",
       "    <tr>\n",
       "      <th>6453258</th>\n",
       "      <td>302</td>\n",
       "      <td>637</td>\n",
       "      <td>241912.321072</td>\n",
       "      <td>241919.498489</td>\n",
       "    </tr>\n",
       "    <tr>\n",
       "      <th>6453259</th>\n",
       "      <td>740</td>\n",
       "      <td>342</td>\n",
       "      <td>241912.686823</td>\n",
       "      <td>241919.489431</td>\n",
       "    </tr>\n",
       "    <tr>\n",
       "      <th>6453260</th>\n",
       "      <td>327</td>\n",
       "      <td>324</td>\n",
       "      <td>241913.941339</td>\n",
       "      <td>241917.596443</td>\n",
       "    </tr>\n",
       "    <tr>\n",
       "      <th>6453261</th>\n",
       "      <td>224</td>\n",
       "      <td>337</td>\n",
       "      <td>241913.962367</td>\n",
       "      <td>241919.498538</td>\n",
       "    </tr>\n",
       "    <tr>\n",
       "      <th>6453262</th>\n",
       "      <td>744</td>\n",
       "      <td>744</td>\n",
       "      <td>241917.408859</td>\n",
       "      <td>241918.379397</td>\n",
       "    </tr>\n",
       "  </tbody>\n",
       "</table>\n",
       "<p>6453263 rows × 4 columns</p>\n",
       "</div>"
      ],
      "text/plain": [
       "         start_id  end_id     start_time       end_time\n",
       "0             722     131       0.483492      13.192747\n",
       "1             531     460       0.484768      23.477447\n",
       "2             515     603       0.624303       4.196019\n",
       "3             804     689       0.807900      13.604670\n",
       "4             740      48       1.568787      31.912915\n",
       "...           ...     ...            ...            ...\n",
       "6453258       302     637  241912.321072  241919.498489\n",
       "6453259       740     342  241912.686823  241919.489431\n",
       "6453260       327     324  241913.941339  241917.596443\n",
       "6453261       224     337  241913.962367  241919.498538\n",
       "6453262       744     744  241917.408859  241918.379397\n",
       "\n",
       "[6453263 rows x 4 columns]"
      ]
     },
     "execution_count": 3,
     "metadata": {},
     "output_type": "execute_result"
    }
   ],
   "source": [
    "santander_train"
   ]
  },
  {
   "cell_type": "markdown",
   "metadata": {},
   "source": [
    "Define a `gb_mep` object `G` using the DataFrame `santander_train`, mapping of station names to labels given by `santander_dictionary`, and matrix of node distances `santander_distances`, and define two dictionaries `start_times` and `end_times` from `G` via the function `augment_start_times`, with input `santander_test`:"
   ]
  },
  {
   "cell_type": "code",
   "execution_count": 4,
   "metadata": {},
   "outputs": [],
   "source": [
    "G = gb_mep.gb_mep(df=santander_train, id_map=santander_dictionary, distance_matrix=santander_distances)\n",
    "start_times, end_times = G.augment_start_times(santander_test)"
   ]
  },
  {
   "cell_type": "markdown",
   "metadata": {},
   "source": [
    "Fit a Poisson process to the training data used to construct `G`:"
   ]
  },
  {
   "cell_type": "code",
   "execution_count": 5,
   "metadata": {},
   "outputs": [],
   "source": [
    "res_pp = G.fit_poisson()"
   ]
  },
  {
   "cell_type": "markdown",
   "metadata": {},
   "source": [
    "Fit a mutually exciting process to the training data used to construct `G`, which models to the start times only as a function of the end times at the same station:"
   ]
  },
  {
   "cell_type": "code",
   "execution_count": 6,
   "metadata": {},
   "outputs": [
    {
     "name": "stdout",
     "output_type": "stream",
     "text": [
      " 4 - Abingdon Green, Westminster                           \r"
     ]
    }
   ],
   "source": [
    "res_mep = G.fit(x0=-np.ones(3), subset_nodes=range(5), start_times=False, end_times=True, distance_start=False, distance_end=False)"
   ]
  },
  {
   "cell_type": "markdown",
   "metadata": {},
   "source": [
    "Fit a self-exciting process to the training data used to construct `G`, which models to the start times only as a function of the start times at the same station:"
   ]
  },
  {
   "cell_type": "code",
   "execution_count": 7,
   "metadata": {},
   "outputs": [
    {
     "name": "stdout",
     "output_type": "stream",
     "text": [
      " 4 - Abingdon Green, Westminster                           \r"
     ]
    }
   ],
   "source": [
    "res_sep = G.fit(x0=-np.ones(3), subset_nodes=range(5), start_times=True, end_times=False, distance_start=False, distance_end=False)"
   ]
  },
  {
   "cell_type": "markdown",
   "metadata": {},
   "source": [
    "Fit a self-and-mutually exciting process to the training data used to construct `G`, which models to the start times only as a function of the event times occurred at the same station:"
   ]
  },
  {
   "cell_type": "code",
   "execution_count": 8,
   "metadata": {},
   "outputs": [
    {
     "name": "stdout",
     "output_type": "stream",
     "text": [
      " 4 - Abingdon Green, Westminster                           \r"
     ]
    }
   ],
   "source": [
    "res_smep = G.fit(x0=-np.ones(5), subset_nodes=range(5), start_times=True, end_times=True, distance_start=False, distance_end=False)"
   ]
  },
  {
   "cell_type": "code",
   "execution_count": 9,
   "metadata": {},
   "outputs": [
    {
     "name": "stdout",
     "output_type": "stream",
     "text": [
      " 4 - Abingdon Green, Westminster                           \r"
     ]
    }
   ],
   "source": [
    "res_gbmep_start = G.fit(x0=-np.ones(4), subset_nodes=range(5), start_times=True, end_times=False, distance_start=True, distance_end=False, thresh=1)"
   ]
  },
  {
   "cell_type": "code",
   "execution_count": 10,
   "metadata": {},
   "outputs": [
    {
     "name": "stdout",
     "output_type": "stream",
     "text": [
      " 4 - Abingdon Green, Westminster                           \r"
     ]
    }
   ],
   "source": [
    "res_gbmep = {}\n",
    "for node in res_gbmep_start:\n",
    "    r = G.fit(x0=np.concatenate((res_gbmep_start[node].x, res_smep[node].x[3:5])), subset_nodes=[node], start_times=True, end_times=True, distance_start=True, distance_end=False, thresh=1)\n",
    "    res_gbmep[node] = r[node]"
   ]
  },
  {
   "cell_type": "markdown",
   "metadata": {},
   "source": [
    "Calculate the $p$-values for all processes, for the node with index `4`:"
   ]
  },
  {
   "cell_type": "code",
   "execution_count": 11,
   "metadata": {},
   "outputs": [],
   "source": [
    "index = 4\n",
    "# p-values for Poisson process\n",
    "p_poisson_train, p_poisson_test = G.pvals_poisson_process(param=res_pp[index], node_index=index, start_times=start_times, test_split=True)\n",
    "# p-values for MEP\n",
    "pp = np.exp(res_mep[index].x)\n",
    "pp[2] += pp[1]\n",
    "p_mep_train, p_mep_test = G.pvals_mep(params=pp, node_index=index, start_times=start_times, end_times=end_times, test_split=True)\n",
    "# p-values for SEP\n",
    "pp = np.exp(res_sep[index].x)\n",
    "pp[2] += pp[1]\n",
    "p_sep_train, p_sep_test = G.pvals_sep(params=pp, node_index=index, start_times=start_times, test_split=True)\n",
    "# p-values for SMEP\n",
    "pp = np.exp(res_smep[index].x)\n",
    "pp[2] += pp[1]; pp[4] += pp[3]\n",
    "p_smep_train, p_smep_test = G.pvals_smep(params=pp, node_index=index, start_times=start_times, end_times=end_times, test_split=True)\n",
    "# p-values for GB-MEP with start times only\n",
    "pp = np.exp(res_gbmep_start[index].x)\n",
    "pp[2] += pp[1]\n",
    "p_gbmep_start_train, p_gbmep_start_test = G.pvals_gbmep_start(params=pp, node_index=index, thresh=1, start_times=start_times, test_split=True)\n",
    "# p-values for GB-MEP\n",
    "pp = np.exp(res_gbmep[index].x)\n",
    "pp[2] += pp[1]; pp[5] += pp[4]\n",
    "p_gbmep_train, p_gbmep_test = G.pvals_gbmep_start_self(params=pp, node_index=index, thresh=1, start_times=start_times, end_times=end_times, test_split=True)"
   ]
  },
  {
   "cell_type": "markdown",
   "metadata": {},
   "source": [
    "Calculate the observed quantiles for all distributions of $p$-values in the test set:"
   ]
  },
  {
   "cell_type": "code",
   "execution_count": 12,
   "metadata": {},
   "outputs": [],
   "source": [
    "x = np.linspace(start=0, stop=1, num=501, endpoint=False)[1:]\n",
    "y_poisson = np.percentile(a=p_poisson_test, q=x*100)\n",
    "y_mep = np.percentile(a=p_mep_test, q=x*100)\n",
    "y_sep = np.percentile(a=p_sep_test, q=x*100)\n",
    "y_smep = np.percentile(a=p_smep_test, q=x*100)\n",
    "y_gbmep_start = np.percentile(a=p_gbmep_start_test, q=x*100)\n",
    "y_gbmep = np.percentile(a=p_gbmep_test, q=x*100)"
   ]
  },
  {
   "cell_type": "markdown",
   "metadata": {},
   "source": [
    "Plot observed quantiles against the theoretical quantiles under the null hypothesis of correct model specification:"
   ]
  },
  {
   "cell_type": "code",
   "execution_count": 13,
   "metadata": {},
   "outputs": [
    {
     "data": {
      "image/png": "[encoded data removed]",
      "text/plain": [
       "<Figure size 640x480 with 1 Axes>"
      ]
     },
     "metadata": {},
     "output_type": "display_data"
    }
   ],
   "source": [
    "import matplotlib.pyplot as plt\n",
    "from matplotlib import rc\n",
    "rc('font',**{'family':'serif','serif':['Times']})\n",
    "rc('text', usetex=True)\n",
    "plt.plot(x, y_poisson, label='Poisson process', ls='dashed', c='lightgray')\n",
    "plt.plot(x, y_mep, label='MEP', ls='dotted', c='lightgray')\n",
    "plt.plot(x, y_sep, label='SEP', c='lightgray')\n",
    "plt.plot(x, y_smep, label='SMEP', ls='dashed', c='black')\n",
    "plt.plot(x, y_gbmep_start, label='GB-MEP (start times only)', ls='dotted', c='black')\n",
    "plt.plot(x, y_gbmep, label='GB-MEP', c='black')\n",
    "plt.plot(x, x, label='Uniform', c='green', ls='dashdot')\n",
    "plt.xlabel('Theoretical quantiles')\n",
    "plt.ylabel('Observed quantiles')\n",
    "plt.legend()\n",
    "plt.show()"
   ]
  },
  {
   "cell_type": "markdown",
   "metadata": {},
   "source": [
    "Perform Kolmogorov-Smirnov tests:"
   ]
  },
  {
   "cell_type": "code",
   "execution_count": 14,
   "metadata": {},
   "outputs": [],
   "source": [
    "import scipy.stats as stats\n",
    "k_poisson = stats.kstest(p_poisson_test, stats.uniform.cdf)\n",
    "k_mep = stats.kstest(p_mep_test, stats.uniform.cdf)\n",
    "k_sep = stats.kstest(p_sep_test, stats.uniform.cdf)\n",
    "k_smep = stats.kstest(p_smep_test, stats.uniform.cdf)\n",
    "k_gbmep_start = stats.kstest(p_gbmep_start_test, stats.uniform.cdf)\n",
    "k_gbmep = stats.kstest(p_gbmep_test, stats.uniform.cdf)"
   ]
  },
  {
   "cell_type": "markdown",
   "metadata": {},
   "source": [
    "Display results:"
   ]
  },
  {
   "cell_type": "code",
   "execution_count": 15,
   "metadata": {},
   "outputs": [
    {
     "data": {
      "text/plain": [
       "(KstestResult(statistic=0.2767190519273033, pvalue=4.3252968950537456e-128, statistic_location=0.8173026063039611, statistic_sign=-1),\n",
       " KstestResult(statistic=0.2525589029181059, pvalue=1.8618674376697723e-106, statistic_location=0.8276252159154533, statistic_sign=-1),\n",
       " KstestResult(statistic=0.12957733005530225, pvalue=4.704555343855851e-28, statistic_location=0.833556109896151, statistic_sign=-1),\n",
       " KstestResult(statistic=0.08640417477058931, pvalue=1.0803268512586869e-12, statistic_location=0.3744678352480429, statistic_sign=-1),\n",
       " KstestResult(statistic=0.08269450918044496, pvalue=1.1610993829179666e-11, statistic_location=0.8635963659443707, statistic_sign=-1),\n",
       " KstestResult(statistic=0.07320311288956638, pvalue=3.1377629960458983e-09, statistic_location=0.8487999298656937, statistic_sign=-1))"
      ]
     },
     "execution_count": 15,
     "metadata": {},
     "output_type": "execute_result"
    }
   ],
   "source": [
    "k_poisson, k_mep, k_sep, k_smep, k_gbmep_start, k_gbmep"
   ]
  }
 ],
 "metadata": {
  "kernelspec": {
   "display_name": "Python 3",
   "language": "python",
   "name": "python3"
  },
  "language_info": {
   "codemirror_mode": {
    "name": "ipython",
    "version": 3
   },
   "file_extension": ".py",
   "mimetype": "text/x-python",
   "name": "python",
   "nbconvert_exporter": "python",
   "pygments_lexer": "ipython3",
   "version": "3.11.4"
  }
 },
 "nbformat": 4,
 "nbformat_minor": 2
}
