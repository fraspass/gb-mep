{
 "cells": [
  {
   "cell_type": "code",
   "execution_count": 1,
   "metadata": {},
   "outputs": [],
   "source": [
    "## Import library gb_mep\n",
    "import gb_mep"
   ]
  },
  {
   "cell_type": "code",
   "execution_count": 2,
   "metadata": {},
   "outputs": [],
   "source": [
    "## Load all required files after importing relevant libraries\n",
    "import pickle\n",
    "import numpy as np\n",
    "import pandas as pd\n",
    "santander_train = pd.read_csv('../data/santander_train.csv') \n",
    "santander_test = pd.read_csv('../data/santander_test.csv') \n",
    "santander_distances = np.load('../data/santander_distances.npy')\n",
    "with open('../data/santander_dictionary.pkl', 'rb') as f:\n",
    "    santander_dictionary = pickle.load(f)\n"
   ]
  },
  {
   "cell_type": "code",
   "execution_count": 3,
   "metadata": {},
   "outputs": [
    {
     "data": {
      "text/html": [
       "<div>\n",
       "<style scoped>\n",
       "    .dataframe tbody tr th:only-of-type {\n",
       "        vertical-align: middle;\n",
       "    }\n",
       "\n",
       "    .dataframe tbody tr th {\n",
       "        vertical-align: top;\n",
       "    }\n",
       "\n",
       "    .dataframe thead th {\n",
       "        text-align: right;\n",
       "    }\n",
       "</style>\n",
       "<table border=\"1\" class=\"dataframe\">\n",
       "  <thead>\n",
       "    <tr style=\"text-align: right;\">\n",
       "      <th></th>\n",
       "      <th>start_id</th>\n",
       "      <th>end_id</th>\n",
       "      <th>start_time</th>\n",
       "      <th>end_time</th>\n",
       "    </tr>\n",
       "  </thead>\n",
       "  <tbody>\n",
       "    <tr>\n",
       "      <th>0</th>\n",
       "      <td>722</td>\n",
       "      <td>131</td>\n",
       "      <td>0.483492</td>\n",
       "      <td>13.192747</td>\n",
       "    </tr>\n",
       "    <tr>\n",
       "      <th>1</th>\n",
       "      <td>531</td>\n",
       "      <td>460</td>\n",
       "      <td>0.484768</td>\n",
       "      <td>23.477447</td>\n",
       "    </tr>\n",
       "    <tr>\n",
       "      <th>2</th>\n",
       "      <td>515</td>\n",
       "      <td>603</td>\n",
       "      <td>0.624303</td>\n",
       "      <td>4.196019</td>\n",
       "    </tr>\n",
       "    <tr>\n",
       "      <th>3</th>\n",
       "      <td>804</td>\n",
       "      <td>689</td>\n",
       "      <td>0.807900</td>\n",
       "      <td>13.604670</td>\n",
       "    </tr>\n",
       "    <tr>\n",
       "      <th>4</th>\n",
       "      <td>740</td>\n",
       "      <td>48</td>\n",
       "      <td>1.568787</td>\n",
       "      <td>31.912915</td>\n",
       "    </tr>\n",
       "    <tr>\n",
       "      <th>...</th>\n",
       "      <td>...</td>\n",
       "      <td>...</td>\n",
       "      <td>...</td>\n",
       "      <td>...</td>\n",
       "    </tr>\n",
       "    <tr>\n",
       "      <th>6453258</th>\n",
       "      <td>302</td>\n",
       "      <td>637</td>\n",
       "      <td>241912.321072</td>\n",
       "      <td>241919.498489</td>\n",
       "    </tr>\n",
       "    <tr>\n",
       "      <th>6453259</th>\n",
       "      <td>740</td>\n",
       "      <td>342</td>\n",
       "      <td>241912.686823</td>\n",
       "      <td>241919.489431</td>\n",
       "    </tr>\n",
       "    <tr>\n",
       "      <th>6453260</th>\n",
       "      <td>327</td>\n",
       "      <td>324</td>\n",
       "      <td>241913.941339</td>\n",
       "      <td>241917.596443</td>\n",
       "    </tr>\n",
       "    <tr>\n",
       "      <th>6453261</th>\n",
       "      <td>224</td>\n",
       "      <td>337</td>\n",
       "      <td>241913.962367</td>\n",
       "      <td>241919.498538</td>\n",
       "    </tr>\n",
       "    <tr>\n",
       "      <th>6453262</th>\n",
       "      <td>744</td>\n",
       "      <td>744</td>\n",
       "      <td>241917.408859</td>\n",
       "      <td>241918.379397</td>\n",
       "    </tr>\n",
       "  </tbody>\n",
       "</table>\n",
       "<p>6453263 rows × 4 columns</p>\n",
       "</div>"
      ],
      "text/plain": [
       "         start_id  end_id     start_time       end_time\n",
       "0             722     131       0.483492      13.192747\n",
       "1             531     460       0.484768      23.477447\n",
       "2             515     603       0.624303       4.196019\n",
       "3             804     689       0.807900      13.604670\n",
       "4             740      48       1.568787      31.912915\n",
       "...           ...     ...            ...            ...\n",
       "6453258       302     637  241912.321072  241919.498489\n",
       "6453259       740     342  241912.686823  241919.489431\n",
       "6453260       327     324  241913.941339  241917.596443\n",
       "6453261       224     337  241913.962367  241919.498538\n",
       "6453262       744     744  241917.408859  241918.379397\n",
       "\n",
       "[6453263 rows x 4 columns]"
      ]
     },
     "execution_count": 3,
     "metadata": {},
     "output_type": "execute_result"
    }
   ],
   "source": [
    "santander_train"
   ]
  },
  {
   "cell_type": "code",
   "execution_count": 4,
   "metadata": {},
   "outputs": [],
   "source": [
    "G = gb_mep.gb_mep(df=santander_train, id_map=santander_dictionary, distance_matrix=santander_distances)\n"
   ]
  },
  {
   "cell_type": "code",
   "execution_count": 5,
   "metadata": {},
   "outputs": [
    {
     "name": "stdout",
     "output_type": "stream",
     "text": [
      "[ 0.01347553  0.36787944 -0.86466472  0.36787944  0.36787944 -0.86466472\n",
      "  1.        ]\n",
      "[ 0.01347553  0.36787944 -0.86466472  0.36787944  0.36787944 -0.86466472\n",
      "  1.        ]\n",
      "[ 0.01347553  0.36787945 -0.8646647   0.36787944  0.36787944 -0.86466472\n",
      "  1.        ]\n",
      "[ 0.01347553  0.36787944 -0.86466471  0.36787944  0.36787944 -0.86466472\n",
      "  1.        ]\n",
      "[ 0.01347553  0.36787944 -0.86466472  0.36787945  0.36787944 -0.86466472\n",
      "  1.        ]\n",
      "[ 0.01347553  0.36787944 -0.86466472  0.36787944  0.36787945 -0.8646647\n",
      "  1.        ]\n",
      "[ 0.01347553  0.36787944 -0.86466472  0.36787944  0.36787944 -0.86466471\n",
      "  1.        ]\n"
     ]
    },
    {
     "name": "stderr",
     "output_type": "stream",
     "text": [
      "/Users/fraspass/Documents/github/gb-mep/lib/gb_mep/gbmep.py:75: RuntimeWarning: overflow encountered in exp\n",
      "  ll += np.exp(-params[3] * ds[node]) * params[1] / params[2] * np.sum(np.exp(-params[2] * (self.T - self.start_times[node])) - 1)\n",
      "/Users/fraspass/Documents/github/gb-mep/lib/gb_mep/gbmep.py:76: RuntimeWarning: overflow encountered in exp\n",
      "  ll += np.exp(-params[6] * ds[node]) * params[4] / params[5] * np.sum(np.exp(-params[5] * (self.T - self.end_times[node])) - 1)\n",
      "/Users/fraspass/Documents/github/gb-mep/lib/gb_mep/gbmep.py:79: RuntimeWarning: overflow encountered in scalar multiply\n",
      "  A[k, node] = ((np.exp(-params[2] * time_diffs[k-1]) * A[k-1, node]) if k > 0 else 0) + np.sum(np.exp(-params[2] * time_diffs_A[k, node]))\n",
      "/Users/fraspass/Documents/github/gb-mep/lib/gb_mep/gbmep.py:80: RuntimeWarning: overflow encountered in scalar multiply\n",
      "  A_prime[k, node] = ((np.exp(-params[5] * time_diffs[k-1]) * A_prime[k-1, node]) if k > 0 else 0) + np.sum(np.exp(-params[5] * time_diffs_A_prime[k, node]))\n",
      "/Users/fraspass/Documents/github/gb-mep/lib/gb_mep/gbmep.py:79: RuntimeWarning: overflow encountered in exp\n",
      "  A[k, node] = ((np.exp(-params[2] * time_diffs[k-1]) * A[k-1, node]) if k > 0 else 0) + np.sum(np.exp(-params[2] * time_diffs_A[k, node]))\n",
      "/Users/fraspass/Documents/github/gb-mep/lib/gb_mep/gbmep.py:80: RuntimeWarning: overflow encountered in exp\n",
      "  A_prime[k, node] = ((np.exp(-params[5] * time_diffs[k-1]) * A_prime[k-1, node]) if k > 0 else 0) + np.sum(np.exp(-params[5] * time_diffs_A_prime[k, node]))\n",
      "/Users/fraspass/Documents/github/gb-mep/lib/gb_mep/gbmep.py:83: RuntimeWarning: invalid value encountered in scalar add\n",
      "  ll += np.sum(np.log(params[0] + B.sum(axis=1)))\n"
     ]
    },
    {
     "name": "stdout",
     "output_type": "stream",
     "text": [
      "[ 0.01347553  0.36787944 -0.86466472  0.36787944  0.36787944 -0.86466472\n",
      "  1.00000001]\n"
     ]
    }
   ],
   "source": [
    "node = 1\n",
    "self = G\n",
    "thresh = 0\n",
    "from scipy.optimize import minimize\n",
    "print('\\r', node, '-', self.id_map[node], ' '*20, end='\\r')\n",
    "# Recursion\n",
    "print('\\r', node, '-', self.id_map[node], ' '*20, end='\\r')\n",
    "ds = self.distance_matrix[node]\n",
    "# Recursion\n",
    "time_diffs_A = {}; time_diffs_A_prime = {}\n",
    "for secondary_node in np.where(ds <= thresh)[0]:\n",
    "    start_breaks = np.searchsorted(a=self.start_times[secondary_node], v=self.start_times[node], side='left')\n",
    "    end_breaks = np.searchsorted(a=self.end_times[secondary_node], v=self.start_times[node], side='left')\n",
    "    for k, t in enumerate(self.start_times[node]):\n",
    "        if k != 0:\n",
    "            time_diffs_A[k, secondary_node] = t - self.start_times[secondary_node][start_breaks[k-1]:start_breaks[k]]\n",
    "            time_diffs_A_prime[k, secondary_node] = t - self.end_times[secondary_node][end_breaks[k-1]:end_breaks[k]]\n",
    "        else:\n",
    "            time_diffs_A[k, secondary_node] = t - self.start_times[secondary_node][:start_breaks[k]]\n",
    "            time_diffs_A_prime[k, secondary_node] = t - self.end_times[secondary_node][:end_breaks[k]]\n",
    "res = minimize(fun=self.negative_loglikelihood_full, x0=np.array([np.log((k+1)/self.T), -1.0, -2.0, -1.0, -1.0, -2.0, 0.0]),\n",
    "                        args=(node, time_diffs_A, time_diffs_A_prime, np.where(ds <= thresh)[0]))"
   ]
  },
  {
   "cell_type": "code",
   "execution_count": 11,
   "metadata": {},
   "outputs": [
    {
     "data": {
      "text/plain": [
       "0.0"
      ]
     },
     "execution_count": 11,
     "metadata": {},
     "output_type": "execute_result"
    }
   ],
   "source": [
    "np.sum(np.exp(-.000000000000000000000000000000001 * (self.T - self.start_times[node])) - 1)"
   ]
  },
  {
   "cell_type": "code",
   "execution_count": 12,
   "metadata": {},
   "outputs": [
    {
     "data": {
      "text/plain": [
       "1.0"
      ]
     },
     "execution_count": 12,
     "metadata": {},
     "output_type": "execute_result"
    }
   ],
   "source": [
    "np.exp(-4*0)"
   ]
  },
  {
   "cell_type": "code",
   "execution_count": 18,
   "metadata": {},
   "outputs": [],
   "source": [
    "node_index = 1\n",
    "ds = self.distance_matrix[node_index]"
   ]
  },
  {
   "cell_type": "code",
   "execution_count": 11,
   "metadata": {},
   "outputs": [
    {
     "data": {
      "text/plain": [
       "array([5., 5., 5., 5., 5., 5., 5., 5., 5., 5.])"
      ]
     },
     "execution_count": 11,
     "metadata": {},
     "output_type": "execute_result"
    }
   ],
   "source": [
    "np.ones((10,5)).sum(axis=1)"
   ]
  },
  {
   "cell_type": "code",
   "execution_count": null,
   "metadata": {},
   "outputs": [],
   "source": []
  }
 ],
 "metadata": {
  "kernelspec": {
   "display_name": "Python 3",
   "language": "python",
   "name": "python3"
  },
  "language_info": {
   "codemirror_mode": {
    "name": "ipython",
    "version": 3
   },
   "file_extension": ".py",
   "mimetype": "text/x-python",
   "name": "python",
   "nbconvert_exporter": "python",
   "pygments_lexer": "ipython3",
   "version": "3.11.4"
  }
 },
 "nbformat": 4,
 "nbformat_minor": 2
}
