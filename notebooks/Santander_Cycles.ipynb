{
 "cells": [
  {
   "cell_type": "code",
   "execution_count": 8,
   "metadata": {},
   "outputs": [],
   "source": [
    "## Import library gb_mep\n",
    "import gb_mep"
   ]
  },
  {
   "cell_type": "code",
   "execution_count": 18,
   "metadata": {},
   "outputs": [],
   "source": [
    "## Load all required files after importing relevant libraries\n",
    "import pickle\n",
    "import numpy as np\n",
    "import pandas as pd\n",
    "santander_train = pd.read_csv('../data/santander_train.csv') \n",
    "santander_test = pd.read_csv('../data/santander_test.csv') \n",
    "santander_distances = np.load('../data/santander_distances.npy')\n",
    "with open('../data/santander_dictionary.pkl', 'rb') as f:\n",
    "    santander_dictionary = pickle.load(f)\n"
   ]
  },
  {
   "cell_type": "code",
   "execution_count": 22,
   "metadata": {},
   "outputs": [
    {
     "data": {
      "text/html": [
       "<div>\n",
       "<style scoped>\n",
       "    .dataframe tbody tr th:only-of-type {\n",
       "        vertical-align: middle;\n",
       "    }\n",
       "\n",
       "    .dataframe tbody tr th {\n",
       "        vertical-align: top;\n",
       "    }\n",
       "\n",
       "    .dataframe thead th {\n",
       "        text-align: right;\n",
       "    }\n",
       "</style>\n",
       "<table border=\"1\" class=\"dataframe\">\n",
       "  <thead>\n",
       "    <tr style=\"text-align: right;\">\n",
       "      <th></th>\n",
       "      <th>start_id</th>\n",
       "      <th>end_id</th>\n",
       "      <th>start_time</th>\n",
       "      <th>end_time</th>\n",
       "    </tr>\n",
       "  </thead>\n",
       "  <tbody>\n",
       "    <tr>\n",
       "      <th>0</th>\n",
       "      <td>722</td>\n",
       "      <td>131</td>\n",
       "      <td>0.483492</td>\n",
       "      <td>13.192747</td>\n",
       "    </tr>\n",
       "    <tr>\n",
       "      <th>1</th>\n",
       "      <td>531</td>\n",
       "      <td>460</td>\n",
       "      <td>0.484768</td>\n",
       "      <td>23.477447</td>\n",
       "    </tr>\n",
       "    <tr>\n",
       "      <th>2</th>\n",
       "      <td>515</td>\n",
       "      <td>603</td>\n",
       "      <td>0.624303</td>\n",
       "      <td>4.196019</td>\n",
       "    </tr>\n",
       "    <tr>\n",
       "      <th>3</th>\n",
       "      <td>804</td>\n",
       "      <td>689</td>\n",
       "      <td>0.807900</td>\n",
       "      <td>13.604670</td>\n",
       "    </tr>\n",
       "    <tr>\n",
       "      <th>4</th>\n",
       "      <td>740</td>\n",
       "      <td>48</td>\n",
       "      <td>1.568787</td>\n",
       "      <td>31.912915</td>\n",
       "    </tr>\n",
       "    <tr>\n",
       "      <th>...</th>\n",
       "      <td>...</td>\n",
       "      <td>...</td>\n",
       "      <td>...</td>\n",
       "      <td>...</td>\n",
       "    </tr>\n",
       "    <tr>\n",
       "      <th>6453258</th>\n",
       "      <td>302</td>\n",
       "      <td>637</td>\n",
       "      <td>241912.321072</td>\n",
       "      <td>241919.498489</td>\n",
       "    </tr>\n",
       "    <tr>\n",
       "      <th>6453259</th>\n",
       "      <td>740</td>\n",
       "      <td>342</td>\n",
       "      <td>241912.686823</td>\n",
       "      <td>241919.489431</td>\n",
       "    </tr>\n",
       "    <tr>\n",
       "      <th>6453260</th>\n",
       "      <td>327</td>\n",
       "      <td>324</td>\n",
       "      <td>241913.941339</td>\n",
       "      <td>241917.596443</td>\n",
       "    </tr>\n",
       "    <tr>\n",
       "      <th>6453261</th>\n",
       "      <td>224</td>\n",
       "      <td>337</td>\n",
       "      <td>241913.962367</td>\n",
       "      <td>241919.498538</td>\n",
       "    </tr>\n",
       "    <tr>\n",
       "      <th>6453262</th>\n",
       "      <td>744</td>\n",
       "      <td>744</td>\n",
       "      <td>241917.408859</td>\n",
       "      <td>241918.379397</td>\n",
       "    </tr>\n",
       "  </tbody>\n",
       "</table>\n",
       "<p>6453263 rows × 4 columns</p>\n",
       "</div>"
      ],
      "text/plain": [
       "         start_id  end_id     start_time       end_time\n",
       "0             722     131       0.483492      13.192747\n",
       "1             531     460       0.484768      23.477447\n",
       "2             515     603       0.624303       4.196019\n",
       "3             804     689       0.807900      13.604670\n",
       "4             740      48       1.568787      31.912915\n",
       "...           ...     ...            ...            ...\n",
       "6453258       302     637  241912.321072  241919.498489\n",
       "6453259       740     342  241912.686823  241919.489431\n",
       "6453260       327     324  241913.941339  241917.596443\n",
       "6453261       224     337  241913.962367  241919.498538\n",
       "6453262       744     744  241917.408859  241918.379397\n",
       "\n",
       "[6453263 rows x 4 columns]"
      ]
     },
     "execution_count": 22,
     "metadata": {},
     "output_type": "execute_result"
    }
   ],
   "source": [
    "santander_train"
   ]
  },
  {
   "cell_type": "code",
   "execution_count": 25,
   "metadata": {},
   "outputs": [],
   "source": [
    "G = gb_mep.gb_mep(df=santander_train, id_map=santander_dictionary, distance_matrix=santander_distances)"
   ]
  },
  {
   "cell_type": "code",
   "execution_count": 27,
   "metadata": {},
   "outputs": [
    {
     "ename": "NameError",
     "evalue": "name 'names' is not defined",
     "output_type": "error",
     "traceback": [
      "\u001b[0;31m---------------------------------------------------------------------------\u001b[0m",
      "\u001b[0;31mNameError\u001b[0m                                 Traceback (most recent call last)",
      "\u001b[1;32m/Users/fraspass/Documents/github/gb-mep/notebooks/Santander_Cycles.ipynb Cell 5\u001b[0m line \u001b[0;36m1\n\u001b[0;32m----> <a href='vscode-notebook-cell:/Users/fraspass/Documents/github/gb-mep/notebooks/Santander_Cycles.ipynb#W5sZmlsZQ%3D%3D?line=0'>1</a>\u001b[0m names(G)\n",
      "\u001b[0;31mNameError\u001b[0m: name 'names' is not defined"
     ]
    }
   ],
   "source": [
    "names(G)"
   ]
  }
 ],
 "metadata": {
  "kernelspec": {
   "display_name": "Python 3",
   "language": "python",
   "name": "python3"
  },
  "language_info": {
   "codemirror_mode": {
    "name": "ipython",
    "version": 3
   },
   "file_extension": ".py",
   "mimetype": "text/x-python",
   "name": "python",
   "nbconvert_exporter": "python",
   "pygments_lexer": "ipython3",
   "version": "3.11.4"
  }
 },
 "nbformat": 4,
 "nbformat_minor": 2
}
