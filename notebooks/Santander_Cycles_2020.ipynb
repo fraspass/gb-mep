{
 "cells": [
  {
   "cell_type": "markdown",
   "metadata": {},
   "source": [
    "# Modelling event times on the Santander Cycles data using graph-based mutually exciting processes (GB-MEP)\n",
    "First, import the library `gb_mep`:"
   ]
  },
  {
   "cell_type": "code",
   "execution_count": 16,
   "metadata": {},
   "outputs": [],
   "source": [
    "## Import library gb_mep\n",
    "import gb_mep"
   ]
  },
  {
   "cell_type": "markdown",
   "metadata": {},
   "source": [
    "Next, import the Santander Cycles data from the directory `data` (after running the scripts for data preprocessing, as detailed in the main `README` file for the library `gb_mep`)."
   ]
  },
  {
   "cell_type": "code",
   "execution_count": 17,
   "metadata": {},
   "outputs": [],
   "source": [
    "## Load all required files after importing relevant libraries\n",
    "import numpy as np\n",
    "import pandas as pd\n",
    "santander = pd.read_csv('../data/santander_summaries/santander_summaries_postprocessed/santander_2020.csv')\n",
    "santander_train = santander[santander.start_time < (12 * 7 * 60 * 24)]\n",
    "santander_test = santander[santander.start_time >= (12 * 7 * 60 * 24)]\n",
    "santander_distances = np.load('../data/santander_summaries/santander_summaries_postprocessed/santander_distances.npy')\n",
    "santander_dictionary = {}\n",
    "for i in np.unique(santander_train['start_id']):\n",
    "    santander_dictionary[i] = i\n",
    "stations = np.sort(np.unique(santander_train['start_id']))\n"
   ]
  },
  {
   "cell_type": "code",
   "execution_count": 18,
   "metadata": {},
   "outputs": [
    {
     "data": {
      "image/png": "[encoded data removed]",
      "text/plain": [
       "<Figure size 640x480 with 1 Axes>"
      ]
     },
     "metadata": {},
     "output_type": "display_data"
    }
   ],
   "source": [
    "import matplotlib.pyplot as plt\n",
    "from matplotlib import rc\n",
    "rc('font',**{'family':'sans-serif','sans-serif':['Lato']})\n",
    "rc('text', usetex=True)\n",
    "plt.bar(range(21),[list(np.sum(santander_distances < .5, axis=1)).count(x) for x in range(21)])\n",
    "plt.title('Frequencies of the number of stations in a 500m radius of each station')\n",
    "plt.show()"
   ]
  },
  {
   "cell_type": "markdown",
   "metadata": {},
   "source": [
    "All valuens appearing at `0` correspond to IDs (integers) which have not been assigned to *any station*. "
   ]
  },
  {
   "cell_type": "markdown",
   "metadata": {},
   "source": [
    "Inspect the Santander Cycles data:"
   ]
  },
  {
   "cell_type": "code",
   "execution_count": 19,
   "metadata": {},
   "outputs": [
    {
     "data": {
      "text/html": [
       "<div>\n",
       "<style scoped>\n",
       "    .dataframe tbody tr th:only-of-type {\n",
       "        vertical-align: middle;\n",
       "    }\n",
       "\n",
       "    .dataframe tbody tr th {\n",
       "        vertical-align: top;\n",
       "    }\n",
       "\n",
       "    .dataframe thead th {\n",
       "        text-align: right;\n",
       "    }\n",
       "</style>\n",
       "<table border=\"1\" class=\"dataframe\">\n",
       "  <thead>\n",
       "    <tr style=\"text-align: right;\">\n",
       "      <th></th>\n",
       "      <th>start_id</th>\n",
       "      <th>end_id</th>\n",
       "      <th>start_time</th>\n",
       "      <th>end_time</th>\n",
       "    </tr>\n",
       "  </thead>\n",
       "  <tbody>\n",
       "    <tr>\n",
       "      <th>0</th>\n",
       "      <td>785</td>\n",
       "      <td>785</td>\n",
       "      <td>2.115653</td>\n",
       "      <td>7.819368</td>\n",
       "    </tr>\n",
       "    <tr>\n",
       "      <th>1</th>\n",
       "      <td>39</td>\n",
       "      <td>539</td>\n",
       "      <td>2.731029</td>\n",
       "      <td>4.364586</td>\n",
       "    </tr>\n",
       "    <tr>\n",
       "      <th>2</th>\n",
       "      <td>103</td>\n",
       "      <td>37</td>\n",
       "      <td>2.997958</td>\n",
       "      <td>8.706181</td>\n",
       "    </tr>\n",
       "    <tr>\n",
       "      <th>3</th>\n",
       "      <td>341</td>\n",
       "      <td>159</td>\n",
       "      <td>3.103391</td>\n",
       "      <td>33.770897</td>\n",
       "    </tr>\n",
       "    <tr>\n",
       "      <th>4</th>\n",
       "      <td>708</td>\n",
       "      <td>573</td>\n",
       "      <td>3.307812</td>\n",
       "      <td>21.038566</td>\n",
       "    </tr>\n",
       "    <tr>\n",
       "      <th>...</th>\n",
       "      <td>...</td>\n",
       "      <td>...</td>\n",
       "      <td>...</td>\n",
       "      <td>...</td>\n",
       "    </tr>\n",
       "    <tr>\n",
       "      <th>3164816</th>\n",
       "      <td>774</td>\n",
       "      <td>723</td>\n",
       "      <td>120949.366483</td>\n",
       "      <td>120956.210812</td>\n",
       "    </tr>\n",
       "    <tr>\n",
       "      <th>3164817</th>\n",
       "      <td>215</td>\n",
       "      <td>75</td>\n",
       "      <td>120949.475288</td>\n",
       "      <td>120957.131862</td>\n",
       "    </tr>\n",
       "    <tr>\n",
       "      <th>3164818</th>\n",
       "      <td>565</td>\n",
       "      <td>40</td>\n",
       "      <td>120952.574913</td>\n",
       "      <td>120958.995761</td>\n",
       "    </tr>\n",
       "    <tr>\n",
       "      <th>3164819</th>\n",
       "      <td>775</td>\n",
       "      <td>667</td>\n",
       "      <td>120953.617898</td>\n",
       "      <td>120957.945673</td>\n",
       "    </tr>\n",
       "    <tr>\n",
       "      <th>3164820</th>\n",
       "      <td>775</td>\n",
       "      <td>667</td>\n",
       "      <td>120954.896869</td>\n",
       "      <td>120957.244067</td>\n",
       "    </tr>\n",
       "  </tbody>\n",
       "</table>\n",
       "<p>3164821 rows × 4 columns</p>\n",
       "</div>"
      ],
      "text/plain": [
       "         start_id  end_id     start_time       end_time\n",
       "0             785     785       2.115653       7.819368\n",
       "1              39     539       2.731029       4.364586\n",
       "2             103      37       2.997958       8.706181\n",
       "3             341     159       3.103391      33.770897\n",
       "4             708     573       3.307812      21.038566\n",
       "...           ...     ...            ...            ...\n",
       "3164816       774     723  120949.366483  120956.210812\n",
       "3164817       215      75  120949.475288  120957.131862\n",
       "3164818       565      40  120952.574913  120958.995761\n",
       "3164819       775     667  120953.617898  120957.945673\n",
       "3164820       775     667  120954.896869  120957.244067\n",
       "\n",
       "[3164821 rows x 4 columns]"
      ]
     },
     "execution_count": 19,
     "metadata": {},
     "output_type": "execute_result"
    }
   ],
   "source": [
    "santander_train"
   ]
  },
  {
   "cell_type": "markdown",
   "metadata": {},
   "source": [
    "Define a `gb_mep` object `G` using the DataFrame `santander_train`, mapping of station names to labels given by `santander_dictionary`, and matrix of node distances `santander_distances`, and define two dictionaries `start_times` and `end_times` from `G` via the function `augment_start_times`, with input `santander_test`:"
   ]
  },
  {
   "cell_type": "code",
   "execution_count": 20,
   "metadata": {},
   "outputs": [],
   "source": [
    "G = gb_mep.gb_mep(df=santander_train, id_map=santander_dictionary, distance_matrix=santander_distances)\n",
    "start_times, end_times = G.augment_start_times(santander_test)"
   ]
  },
  {
   "cell_type": "markdown",
   "metadata": {},
   "source": [
    "Fit a Poisson process to the training data used to construct `G`:"
   ]
  },
  {
   "cell_type": "code",
   "execution_count": 21,
   "metadata": {},
   "outputs": [],
   "source": [
    "res_pp = G.fit_poisson()"
   ]
  },
  {
   "cell_type": "markdown",
   "metadata": {},
   "source": [
    "Fit a mutually exciting process to the training data used to construct `G`, which models to the start times only as a function of the end times at the same station:"
   ]
  },
  {
   "cell_type": "code",
   "execution_count": 22,
   "metadata": {},
   "outputs": [
    {
     "name": "stdout",
     "output_type": "stream",
     "text": [
      " 268 - 268                     \r"
     ]
    }
   ],
   "source": [
    "res_mep = G.fit(x0=-4*np.ones(3), subset_nodes=[268], start_times=False, end_times=True, distance_start=False, distance_end=False)"
   ]
  },
  {
   "cell_type": "markdown",
   "metadata": {},
   "source": [
    "Fit a self-exciting process to the training data used to construct `G`, which models to the start times only as a function of the start times at the same station:"
   ]
  },
  {
   "cell_type": "code",
   "execution_count": 23,
   "metadata": {},
   "outputs": [
    {
     "name": "stdout",
     "output_type": "stream",
     "text": [
      " 268 - 268                     \r"
     ]
    }
   ],
   "source": [
    "res_sep = G.fit(x0=-4*np.ones(3), subset_nodes=[268], start_times=True, end_times=False, distance_start=False, distance_end=False)"
   ]
  },
  {
   "cell_type": "markdown",
   "metadata": {},
   "source": [
    "Fit a self-and-mutually exciting process to the training data used to construct `G`, which models to the start times only as a function of the event times occurred at the same station:"
   ]
  },
  {
   "cell_type": "code",
   "execution_count": 24,
   "metadata": {},
   "outputs": [
    {
     "name": "stdout",
     "output_type": "stream",
     "text": [
      " 268 - 268                     \r"
     ]
    }
   ],
   "source": [
    "start_vals = gb_mep.combine_dictionaries(d1=res_sep, d2=res_mep, cut_d2=1, add_in_between=None)\n",
    "res_smep = G.fit(x0=start_vals, subset_nodes=[268], start_times=True, end_times=True, distance_start=False, distance_end=False)"
   ]
  },
  {
   "cell_type": "code",
   "execution_count": 25,
   "metadata": {},
   "outputs": [
    {
     "name": "stdout",
     "output_type": "stream",
     "text": [
      " 268 - 268                     \r"
     ]
    }
   ],
   "source": [
    "start_vals = gb_mep.append_to_dictionary(d=res_sep, val=1)\n",
    "res_gbmep_start = G.fit(x0=start_vals, subset_nodes=[268], start_times=True, end_times=False, distance_start=True, distance_end=False, thresh=.5, min_nodes=3)"
   ]
  },
  {
   "cell_type": "code",
   "execution_count": 26,
   "metadata": {},
   "outputs": [
    {
     "name": "stdout",
     "output_type": "stream",
     "text": [
      " 268 - 268                     \r"
     ]
    }
   ],
   "source": [
    "start_vals = gb_mep.insert_in_dictionary(d=res_smep, val=1, pos=3)\n",
    "res_gbmep = G.fit(x0=start_vals, subset_nodes=[268], start_times=True, end_times=True, distance_start=True, distance_end=False, thresh=.5, min_nodes=3)"
   ]
  },
  {
   "cell_type": "code",
   "execution_count": 27,
   "metadata": {},
   "outputs": [
    {
     "name": "stdout",
     "output_type": "stream",
     "text": [
      " 268 - 268                     \r"
     ]
    }
   ],
   "source": [
    "start_vals = gb_mep.append_to_dictionary(gb_mep.insert_in_dictionary(d=res_smep, val=1, pos=3), val=1)\n",
    "res_gbmep_full = G.fit(x0=start_vals, subset_nodes=[268], start_times=True, end_times=True, distance_start=True, distance_end=True, thresh=.5, min_nodes=3)"
   ]
  },
  {
   "cell_type": "markdown",
   "metadata": {},
   "source": [
    "Calculate the $p$-values for all processes, for the node with index `268`:"
   ]
  },
  {
   "cell_type": "code",
   "execution_count": 28,
   "metadata": {},
   "outputs": [],
   "source": [
    "index = 268\n",
    "# p-values for Poisson process\n",
    "p_poisson_train, p_poisson_test = G.pvals_poisson_process(param=res_pp[index], node_index=index, start_times=start_times, test_split=True)\n",
    "# p-values for MEP\n",
    "pp = gb_mep.transform_parameters(res_mep[index].x)\n",
    "p_mep_train, p_mep_test = G.pvals_mep(params=pp, node_index=index, start_times=start_times, end_times=end_times, test_split=True)\n",
    "# p-values for SEP\n",
    "pp = gb_mep.transform_parameters(res_sep[index].x)\n",
    "p_sep_train, p_sep_test = G.pvals_sep(params=pp, node_index=index, start_times=start_times, test_split=True)\n",
    "# p-values for SMEP\n",
    "pp = gb_mep.transform_parameters(res_smep[index].x)\n",
    "p_smep_train, p_smep_test = G.pvals_smep(params=pp, node_index=index, start_times=start_times, end_times=end_times, test_split=True)\n",
    "# p-values for GB-MEP with start times only\n",
    "pp  = gb_mep.transform_parameters(res_gbmep_start[index].x)\n",
    "p_gbmep_start_train, p_gbmep_start_test = G.pvals_gbmep_start(params=pp, node_index=index, subset_nodes=res_gbmep_start[index].subset_nodes, start_times=start_times, test_split=True)\n",
    "# p-values for GB-MEP\n",
    "pp = gb_mep.transform_parameters(res_gbmep[index].x)\n",
    "p_gbmep_train, p_gbmep_test = G.pvals_gbmep_start_self(params=pp, node_index=index, subset_nodes=res_gbmep[index].subset_nodes, start_times=start_times, end_times=end_times, test_split=True)\n",
    "# p-values for GB-MEP (full)\n",
    "pp = gb_mep.transform_parameters(res_gbmep_full[index].x)\n",
    "p_gbmep_full_train, p_gbmep_full_test = G.pvals_gbmep(params=pp, node_index=index, subset_nodes=res_gbmep[index].subset_nodes, start_times=start_times, end_times=end_times, test_split=True)"
   ]
  },
  {
   "cell_type": "markdown",
   "metadata": {},
   "source": [
    "Calculate the observed quantiles for all distributions of $p$-values in the test set:"
   ]
  },
  {
   "cell_type": "code",
   "execution_count": 29,
   "metadata": {},
   "outputs": [],
   "source": [
    "x = np.linspace(start=0, stop=1, num=501, endpoint=False)[1:]\n",
    "y_poisson = np.percentile(a=p_poisson_test, q=x*100)\n",
    "y_mep = np.percentile(a=p_mep_test, q=x*100)\n",
    "y_sep = np.percentile(a=p_sep_test, q=x*100)\n",
    "y_smep = np.percentile(a=p_smep_test, q=x*100)\n",
    "y_gbmep_start = np.percentile(a=p_gbmep_start_test, q=x*100)\n",
    "y_gbmep = np.percentile(a=p_gbmep_test, q=x*100)\n",
    "y_gbmep_full = np.percentile(a=p_gbmep_full_test, q=x*100)"
   ]
  },
  {
   "cell_type": "markdown",
   "metadata": {},
   "source": [
    "Plot observed quantiles against the theoretical quantiles under the null hypothesis of correct model specification:"
   ]
  },
  {
   "cell_type": "code",
   "execution_count": 30,
   "metadata": {},
   "outputs": [
    {
     "data": {
      "image/png": "[encoded data removed]",
      "text/plain": [
       "<Figure size 640x480 with 1 Axes>"
      ]
     },
     "metadata": {},
     "output_type": "display_data"
    }
   ],
   "source": [
    "plt.plot(x, y_poisson, label='Poisson process', ls='dashed', c='lightgray')\n",
    "plt.plot(x, y_mep, label='MEP', ls='dotted', c='lightgray')\n",
    "plt.plot(x, y_sep, label='SEP', c='lightgray')\n",
    "plt.plot(x, y_smep, label='SMEP', ls='dashed', c='black')\n",
    "plt.plot(x, y_gbmep_start, label='GB-MEP (start times only)', ls='dotted', c='black')\n",
    "plt.plot(x, y_gbmep, label='GB-MEP', c='black')\n",
    "plt.plot(x, y_gbmep_full, label='GB-MEP (full)', c='red')\n",
    "plt.plot(x, x, label='Uniform', c='green', ls='dashdot')\n",
    "plt.xlabel('Theoretical quantiles')\n",
    "plt.ylabel('Observed quantiles')\n",
    "plt.legend()\n",
    "plt.show()"
   ]
  },
  {
   "cell_type": "markdown",
   "metadata": {},
   "source": [
    "Perform Kolmogorov-Smirnov tests:"
   ]
  },
  {
   "cell_type": "code",
   "execution_count": 31,
   "metadata": {},
   "outputs": [],
   "source": [
    "import scipy.stats as stats\n",
    "k_poisson = stats.kstest(p_poisson_train, stats.uniform.cdf).statistic\n",
    "k_mep = stats.kstest(p_mep_train, stats.uniform.cdf).statistic\n",
    "k_sep = stats.kstest(p_sep_train, stats.uniform.cdf).statistic\n",
    "k_smep = stats.kstest(p_smep_train, stats.uniform.cdf).statistic\n",
    "k_gbmep_start = stats.kstest(p_gbmep_start_train, stats.uniform.cdf).statistic\n",
    "k_gbmep = stats.kstest(p_gbmep_train, stats.uniform.cdf).statistic\n",
    "k_gbmep_full = stats.kstest(p_gbmep_full_train, stats.uniform.cdf).statistic"
   ]
  },
  {
   "cell_type": "markdown",
   "metadata": {},
   "source": [
    "Display results:"
   ]
  },
  {
   "cell_type": "code",
   "execution_count": 32,
   "metadata": {},
   "outputs": [
    {
     "data": {
      "text/plain": [
       "(0.20940206892121033,\n",
       " 0.17192521237061786,\n",
       " 0.10246757356937608,\n",
       " 0.04687532745568057,\n",
       " 0.08293068025657124,\n",
       " 0.05535808190973002,\n",
       " 0.027788864631873522)"
      ]
     },
     "execution_count": 32,
     "metadata": {},
     "output_type": "execute_result"
    }
   ],
   "source": [
    "k_poisson, k_mep, k_sep, k_smep, k_gbmep_start, k_gbmep, k_gbmep_full"
   ]
  },
  {
   "cell_type": "code",
   "execution_count": 33,
   "metadata": {},
   "outputs": [
    {
     "data": {
      "text/plain": [
       "(0.1876834100265894,\n",
       " 0.16875169565396153,\n",
       " 0.10379222835453894,\n",
       " 0.024091148856868472,\n",
       " 0.08875921716260027,\n",
       " 0.055583127012889366,\n",
       " 0.017334312514592054)"
      ]
     },
     "execution_count": 33,
     "metadata": {},
     "output_type": "execute_result"
    }
   ],
   "source": [
    "import scipy.stats as stats\n",
    "k_poisson = stats.kstest(p_poisson_test, stats.uniform.cdf).statistic\n",
    "k_mep = stats.kstest(p_mep_test, stats.uniform.cdf).statistic\n",
    "k_sep = stats.kstest(p_sep_test, stats.uniform.cdf).statistic\n",
    "k_smep = stats.kstest(p_smep_test, stats.uniform.cdf).statistic\n",
    "k_gbmep_start = stats.kstest(p_gbmep_start_test, stats.uniform.cdf).statistic\n",
    "k_gbmep = stats.kstest(p_gbmep_test, stats.uniform.cdf).statistic\n",
    "k_gbmep_full = stats.kstest(p_gbmep_full_test, stats.uniform.cdf).statistic\n",
    "k_poisson, k_mep, k_sep, k_smep, k_gbmep_start, k_gbmep, k_gbmep_full"
   ]
  }
 ],
 "metadata": {
  "kernelspec": {
   "display_name": "Python 3",
   "language": "python",
   "name": "python3"
  },
  "language_info": {
   "codemirror_mode": {
    "name": "ipython",
    "version": 3
   },
   "file_extension": ".py",
   "mimetype": "text/x-python",
   "name": "python",
   "nbconvert_exporter": "python",
   "pygments_lexer": "ipython3",
   "version": "3.11.4"
  }
 },
 "nbformat": 4,
 "nbformat_minor": 2
}
